{
  "nbformat": 4,
  "nbformat_minor": 0,
  "metadata": {
    "colab": {
      "name": "Project1_starter.ipynb",
      "provenance": [],
      "collapsed_sections": [],
      "include_colab_link": true
    },
    "kernelspec": {
      "name": "python3",
      "display_name": "Python 3"
    },
    "accelerator": "GPU"
  },
  "cells": [
    {
      "cell_type": "markdown",
      "metadata": {
        "id": "view-in-github",
        "colab_type": "text"
      },
      "source": [
        "<a href=\"https://colab.research.google.com/github/ashwinsinha32/Project1Redo/blob/main/Project1_starter.ipynb\" target=\"_parent\"><img src=\"https://colab.research.google.com/assets/colab-badge.svg\" alt=\"Open In Colab\"/></a>"
      ]
    },
    {
      "cell_type": "markdown",
      "source": [
        "# Name: Ashwin Sinha"
      ],
      "metadata": {
        "id": "_g3UFb9b8UvP"
      }
    },
    {
      "cell_type": "markdown",
      "metadata": {
        "id": "F9AOhxuO9Vt7"
      },
      "source": [
        "# Project \\#1 Starter Code: \n",
        "Your first step is to decide which dataset you would like to work with for this project. You can find the data on Blackboard. \n",
        "\n",
        "I will be using the Happiness dataset:\n"
      ]
    },
    {
      "cell_type": "code",
      "metadata": {
        "colab": {
          "base_uri": "https://localhost:8080/",
          "height": 224
        },
        "id": "5N97IBe79Mfp",
        "outputId": "24666c9f-5e97-4361-baa9-922ff7e885aa"
      },
      "source": [
        "from google.colab import drive\n",
        "import pandas as pd\n",
        "drive.mount('/content/drive')\n",
        "happy =pd.read_csv('/content/drive/MyDrive/CS167Spring22/datasets/happiness_data.csv')\n",
        "happy.head()"
      ],
      "execution_count": 1,
      "outputs": [
        {
          "output_type": "stream",
          "name": "stdout",
          "text": [
            "Mounted at /content/drive\n"
          ]
        },
        {
          "output_type": "execute_result",
          "data": {
            "text/plain": [
              "   Overall rank  Year Country or region  Score  GDP per capita  \\\n",
              "0             1  2018           Finland  7.632           1.305   \n",
              "1             2  2018            Norway  7.594           1.456   \n",
              "2             3  2018           Denmark  7.555           1.351   \n",
              "3             4  2018           Iceland  7.495           1.343   \n",
              "4             5  2018       Switzerland  7.487           1.420   \n",
              "\n",
              "   Social support and Family  Healthy life expectancy  \\\n",
              "0                      1.592                    0.874   \n",
              "1                      1.582                    0.861   \n",
              "2                      1.590                    0.868   \n",
              "3                      1.644                    0.914   \n",
              "4                      1.549                    0.927   \n",
              "\n",
              "   Freedom to make life choices  Generosity  Perceptions of corruption  \n",
              "0                         0.681       0.202                      0.393  \n",
              "1                         0.686       0.286                      0.340  \n",
              "2                         0.683       0.284                      0.408  \n",
              "3                         0.677       0.353                      0.138  \n",
              "4                         0.660       0.256                      0.357  "
            ],
            "text/html": [
              "\n",
              "  <div id=\"df-ee470053-5e64-402f-84a1-52bae37529ee\">\n",
              "    <div class=\"colab-df-container\">\n",
              "      <div>\n",
              "<style scoped>\n",
              "    .dataframe tbody tr th:only-of-type {\n",
              "        vertical-align: middle;\n",
              "    }\n",
              "\n",
              "    .dataframe tbody tr th {\n",
              "        vertical-align: top;\n",
              "    }\n",
              "\n",
              "    .dataframe thead th {\n",
              "        text-align: right;\n",
              "    }\n",
              "</style>\n",
              "<table border=\"1\" class=\"dataframe\">\n",
              "  <thead>\n",
              "    <tr style=\"text-align: right;\">\n",
              "      <th></th>\n",
              "      <th>Overall rank</th>\n",
              "      <th>Year</th>\n",
              "      <th>Country or region</th>\n",
              "      <th>Score</th>\n",
              "      <th>GDP per capita</th>\n",
              "      <th>Social support and Family</th>\n",
              "      <th>Healthy life expectancy</th>\n",
              "      <th>Freedom to make life choices</th>\n",
              "      <th>Generosity</th>\n",
              "      <th>Perceptions of corruption</th>\n",
              "    </tr>\n",
              "  </thead>\n",
              "  <tbody>\n",
              "    <tr>\n",
              "      <th>0</th>\n",
              "      <td>1</td>\n",
              "      <td>2018</td>\n",
              "      <td>Finland</td>\n",
              "      <td>7.632</td>\n",
              "      <td>1.305</td>\n",
              "      <td>1.592</td>\n",
              "      <td>0.874</td>\n",
              "      <td>0.681</td>\n",
              "      <td>0.202</td>\n",
              "      <td>0.393</td>\n",
              "    </tr>\n",
              "    <tr>\n",
              "      <th>1</th>\n",
              "      <td>2</td>\n",
              "      <td>2018</td>\n",
              "      <td>Norway</td>\n",
              "      <td>7.594</td>\n",
              "      <td>1.456</td>\n",
              "      <td>1.582</td>\n",
              "      <td>0.861</td>\n",
              "      <td>0.686</td>\n",
              "      <td>0.286</td>\n",
              "      <td>0.340</td>\n",
              "    </tr>\n",
              "    <tr>\n",
              "      <th>2</th>\n",
              "      <td>3</td>\n",
              "      <td>2018</td>\n",
              "      <td>Denmark</td>\n",
              "      <td>7.555</td>\n",
              "      <td>1.351</td>\n",
              "      <td>1.590</td>\n",
              "      <td>0.868</td>\n",
              "      <td>0.683</td>\n",
              "      <td>0.284</td>\n",
              "      <td>0.408</td>\n",
              "    </tr>\n",
              "    <tr>\n",
              "      <th>3</th>\n",
              "      <td>4</td>\n",
              "      <td>2018</td>\n",
              "      <td>Iceland</td>\n",
              "      <td>7.495</td>\n",
              "      <td>1.343</td>\n",
              "      <td>1.644</td>\n",
              "      <td>0.914</td>\n",
              "      <td>0.677</td>\n",
              "      <td>0.353</td>\n",
              "      <td>0.138</td>\n",
              "    </tr>\n",
              "    <tr>\n",
              "      <th>4</th>\n",
              "      <td>5</td>\n",
              "      <td>2018</td>\n",
              "      <td>Switzerland</td>\n",
              "      <td>7.487</td>\n",
              "      <td>1.420</td>\n",
              "      <td>1.549</td>\n",
              "      <td>0.927</td>\n",
              "      <td>0.660</td>\n",
              "      <td>0.256</td>\n",
              "      <td>0.357</td>\n",
              "    </tr>\n",
              "  </tbody>\n",
              "</table>\n",
              "</div>\n",
              "      <button class=\"colab-df-convert\" onclick=\"convertToInteractive('df-ee470053-5e64-402f-84a1-52bae37529ee')\"\n",
              "              title=\"Convert this dataframe to an interactive table.\"\n",
              "              style=\"display:none;\">\n",
              "        \n",
              "  <svg xmlns=\"http://www.w3.org/2000/svg\" height=\"24px\"viewBox=\"0 0 24 24\"\n",
              "       width=\"24px\">\n",
              "    <path d=\"M0 0h24v24H0V0z\" fill=\"none\"/>\n",
              "    <path d=\"M18.56 5.44l.94 2.06.94-2.06 2.06-.94-2.06-.94-.94-2.06-.94 2.06-2.06.94zm-11 1L8.5 8.5l.94-2.06 2.06-.94-2.06-.94L8.5 2.5l-.94 2.06-2.06.94zm10 10l.94 2.06.94-2.06 2.06-.94-2.06-.94-.94-2.06-.94 2.06-2.06.94z\"/><path d=\"M17.41 7.96l-1.37-1.37c-.4-.4-.92-.59-1.43-.59-.52 0-1.04.2-1.43.59L10.3 9.45l-7.72 7.72c-.78.78-.78 2.05 0 2.83L4 21.41c.39.39.9.59 1.41.59.51 0 1.02-.2 1.41-.59l7.78-7.78 2.81-2.81c.8-.78.8-2.07 0-2.86zM5.41 20L4 18.59l7.72-7.72 1.47 1.35L5.41 20z\"/>\n",
              "  </svg>\n",
              "      </button>\n",
              "      \n",
              "  <style>\n",
              "    .colab-df-container {\n",
              "      display:flex;\n",
              "      flex-wrap:wrap;\n",
              "      gap: 12px;\n",
              "    }\n",
              "\n",
              "    .colab-df-convert {\n",
              "      background-color: #E8F0FE;\n",
              "      border: none;\n",
              "      border-radius: 50%;\n",
              "      cursor: pointer;\n",
              "      display: none;\n",
              "      fill: #1967D2;\n",
              "      height: 32px;\n",
              "      padding: 0 0 0 0;\n",
              "      width: 32px;\n",
              "    }\n",
              "\n",
              "    .colab-df-convert:hover {\n",
              "      background-color: #E2EBFA;\n",
              "      box-shadow: 0px 1px 2px rgba(60, 64, 67, 0.3), 0px 1px 3px 1px rgba(60, 64, 67, 0.15);\n",
              "      fill: #174EA6;\n",
              "    }\n",
              "\n",
              "    [theme=dark] .colab-df-convert {\n",
              "      background-color: #3B4455;\n",
              "      fill: #D2E3FC;\n",
              "    }\n",
              "\n",
              "    [theme=dark] .colab-df-convert:hover {\n",
              "      background-color: #434B5C;\n",
              "      box-shadow: 0px 1px 3px 1px rgba(0, 0, 0, 0.15);\n",
              "      filter: drop-shadow(0px 1px 2px rgba(0, 0, 0, 0.3));\n",
              "      fill: #FFFFFF;\n",
              "    }\n",
              "  </style>\n",
              "\n",
              "      <script>\n",
              "        const buttonEl =\n",
              "          document.querySelector('#df-ee470053-5e64-402f-84a1-52bae37529ee button.colab-df-convert');\n",
              "        buttonEl.style.display =\n",
              "          google.colab.kernel.accessAllowed ? 'block' : 'none';\n",
              "\n",
              "        async function convertToInteractive(key) {\n",
              "          const element = document.querySelector('#df-ee470053-5e64-402f-84a1-52bae37529ee');\n",
              "          const dataTable =\n",
              "            await google.colab.kernel.invokeFunction('convertToInteractive',\n",
              "                                                     [key], {});\n",
              "          if (!dataTable) return;\n",
              "\n",
              "          const docLinkHtml = 'Like what you see? Visit the ' +\n",
              "            '<a target=\"_blank\" href=https://colab.research.google.com/notebooks/data_table.ipynb>data table notebook</a>'\n",
              "            + ' to learn more about interactive tables.';\n",
              "          element.innerHTML = '';\n",
              "          dataTable['output_type'] = 'display_data';\n",
              "          await google.colab.output.renderOutput(dataTable, element);\n",
              "          const docLink = document.createElement('div');\n",
              "          docLink.innerHTML = docLinkHtml;\n",
              "          element.appendChild(docLink);\n",
              "        }\n",
              "      </script>\n",
              "    </div>\n",
              "  </div>\n",
              "  "
            ]
          },
          "metadata": {},
          "execution_count": 1
        }
      ]
    },
    {
      "cell_type": "markdown",
      "metadata": {
        "id": "7SfueFgsNdNt"
      },
      "source": [
        "# Problem: \n",
        "Which dataset are you going to use? What questions are you going to ask about this dataset? Make sure that you can answer the question using ML models. What are your predictor variables and target variable?"
      ]
    },
    {
      "cell_type": "markdown",
      "source": [
        "I will be using the Happiness dataset to determine which countries have the highest happiness score given the numerous features we have available, from generosity levels to life expectancy predictions. With this information, we can evaluate a country's happiness ranking, along with predicting the general pleasure one might gain from living in a country. Target Variable = Score |\n",
        "Predictor Variables = GDP per capita, generosity, freedom to make life choices, and social support and family."
      ],
      "metadata": {
        "id": "7ZU4TX4BfYxv"
      }
    },
    {
      "cell_type": "markdown",
      "metadata": {
        "id": "yM_lNmrrNw6S"
      },
      "source": [
        "# Data Preparation\n",
        "Explain your data prep. What did you do to get your data in the shape for your experiments? (e.g. creation of dummy variables, filling in missing values, etc). "
      ]
    },
    {
      "cell_type": "markdown",
      "source": [
        "The original dataset has 2,580 rows, but after dropping rops that contained a value of \"Unrated\" in the Stars category, we reduced it down to 2,577 rows.  We then needed to convert NaN values in the \"Top Ten\" category to zero to do our analysis.  Additionally, I created a couple different subsets based on different predictors as well as a subset that contained all the values of the highest rating \"Top Ten\" values since 2012.  This subset called TopRamen contains 37 rows.  TopRamenHQ shows which countries the best ramen are from, along with the brand and a couple other features.  Lastly, we created dummy variables to give binary nunmbers to the brand and style of ramen so that we can convert them to a quantitative figure."
      ],
      "metadata": {
        "id": "UJ6E2mtQKVyu"
      }
    },
    {
      "cell_type": "code",
      "metadata": {
        "id": "S-L1vVEe90YD",
        "colab": {
          "base_uri": "https://localhost:8080/"
        },
        "outputId": "b4a3d350-0963-4fc4-db52-a616c15904fe"
      },
      "source": [
        "# data prep code \n",
        "happy.shape"
      ],
      "execution_count": 2,
      "outputs": [
        {
          "output_type": "execute_result",
          "data": {
            "text/plain": [
              "(782, 10)"
            ]
          },
          "metadata": {},
          "execution_count": 2
        }
      ]
    },
    {
      "cell_type": "code",
      "source": [
        "happy['GDP per capita'].isnull().values.any()\n",
        "happy['Social support and Family'].isnull().values.any()\n",
        "happy['Generosity'].isnull().values.any()\n",
        "happy['Freedom to make life choices'].isnull().values.any()\n",
        "\n",
        "\n",
        "print(\"after: \", happy.shape)"
      ],
      "metadata": {
        "colab": {
          "base_uri": "https://localhost:8080/"
        },
        "id": "U50233gFj_OC",
        "outputId": "6d84dd3f-5314-4fea-81ec-78ffa3248fba"
      },
      "execution_count": 3,
      "outputs": [
        {
          "output_type": "stream",
          "name": "stdout",
          "text": [
            "after:  (782, 10)\n"
          ]
        }
      ]
    },
    {
      "cell_type": "code",
      "source": [
        "happy2 = happy.dropna( subset = ['Country or region']).copy()\n",
        "print(\"after: \", happy2.shape)"
      ],
      "metadata": {
        "colab": {
          "base_uri": "https://localhost:8080/"
        },
        "id": "NcW5KLpmlw0i",
        "outputId": "885a6af6-cb58-4aab-a82b-b184a8ba048c"
      },
      "execution_count": 7,
      "outputs": [
        {
          "output_type": "stream",
          "name": "stdout",
          "text": [
            "after:  (782, 10)\n"
          ]
        }
      ]
    },
    {
      "cell_type": "code",
      "source": [
        "happy2 = happy[happy2[\"Year\"].astype(str).str.contains('2018')]\n",
        "happy2.head()"
      ],
      "metadata": {
        "colab": {
          "base_uri": "https://localhost:8080/",
          "height": 206
        },
        "id": "rHxHc-WylhUX",
        "outputId": "8b26e2db-eada-41d4-dea1-bb9759ca152d"
      },
      "execution_count": 8,
      "outputs": [
        {
          "output_type": "execute_result",
          "data": {
            "text/plain": [
              "   Overall rank  Year Country or region  Score  GDP per capita  \\\n",
              "0             1  2018           Finland  7.632           1.305   \n",
              "1             2  2018            Norway  7.594           1.456   \n",
              "2             3  2018           Denmark  7.555           1.351   \n",
              "3             4  2018           Iceland  7.495           1.343   \n",
              "4             5  2018       Switzerland  7.487           1.420   \n",
              "\n",
              "   Social support and Family  Healthy life expectancy  \\\n",
              "0                      1.592                    0.874   \n",
              "1                      1.582                    0.861   \n",
              "2                      1.590                    0.868   \n",
              "3                      1.644                    0.914   \n",
              "4                      1.549                    0.927   \n",
              "\n",
              "   Freedom to make life choices  Generosity  Perceptions of corruption  \n",
              "0                         0.681       0.202                      0.393  \n",
              "1                         0.686       0.286                      0.340  \n",
              "2                         0.683       0.284                      0.408  \n",
              "3                         0.677       0.353                      0.138  \n",
              "4                         0.660       0.256                      0.357  "
            ],
            "text/html": [
              "\n",
              "  <div id=\"df-69cdf9fd-e2c8-46aa-b54b-1665a6ef3c15\">\n",
              "    <div class=\"colab-df-container\">\n",
              "      <div>\n",
              "<style scoped>\n",
              "    .dataframe tbody tr th:only-of-type {\n",
              "        vertical-align: middle;\n",
              "    }\n",
              "\n",
              "    .dataframe tbody tr th {\n",
              "        vertical-align: top;\n",
              "    }\n",
              "\n",
              "    .dataframe thead th {\n",
              "        text-align: right;\n",
              "    }\n",
              "</style>\n",
              "<table border=\"1\" class=\"dataframe\">\n",
              "  <thead>\n",
              "    <tr style=\"text-align: right;\">\n",
              "      <th></th>\n",
              "      <th>Overall rank</th>\n",
              "      <th>Year</th>\n",
              "      <th>Country or region</th>\n",
              "      <th>Score</th>\n",
              "      <th>GDP per capita</th>\n",
              "      <th>Social support and Family</th>\n",
              "      <th>Healthy life expectancy</th>\n",
              "      <th>Freedom to make life choices</th>\n",
              "      <th>Generosity</th>\n",
              "      <th>Perceptions of corruption</th>\n",
              "    </tr>\n",
              "  </thead>\n",
              "  <tbody>\n",
              "    <tr>\n",
              "      <th>0</th>\n",
              "      <td>1</td>\n",
              "      <td>2018</td>\n",
              "      <td>Finland</td>\n",
              "      <td>7.632</td>\n",
              "      <td>1.305</td>\n",
              "      <td>1.592</td>\n",
              "      <td>0.874</td>\n",
              "      <td>0.681</td>\n",
              "      <td>0.202</td>\n",
              "      <td>0.393</td>\n",
              "    </tr>\n",
              "    <tr>\n",
              "      <th>1</th>\n",
              "      <td>2</td>\n",
              "      <td>2018</td>\n",
              "      <td>Norway</td>\n",
              "      <td>7.594</td>\n",
              "      <td>1.456</td>\n",
              "      <td>1.582</td>\n",
              "      <td>0.861</td>\n",
              "      <td>0.686</td>\n",
              "      <td>0.286</td>\n",
              "      <td>0.340</td>\n",
              "    </tr>\n",
              "    <tr>\n",
              "      <th>2</th>\n",
              "      <td>3</td>\n",
              "      <td>2018</td>\n",
              "      <td>Denmark</td>\n",
              "      <td>7.555</td>\n",
              "      <td>1.351</td>\n",
              "      <td>1.590</td>\n",
              "      <td>0.868</td>\n",
              "      <td>0.683</td>\n",
              "      <td>0.284</td>\n",
              "      <td>0.408</td>\n",
              "    </tr>\n",
              "    <tr>\n",
              "      <th>3</th>\n",
              "      <td>4</td>\n",
              "      <td>2018</td>\n",
              "      <td>Iceland</td>\n",
              "      <td>7.495</td>\n",
              "      <td>1.343</td>\n",
              "      <td>1.644</td>\n",
              "      <td>0.914</td>\n",
              "      <td>0.677</td>\n",
              "      <td>0.353</td>\n",
              "      <td>0.138</td>\n",
              "    </tr>\n",
              "    <tr>\n",
              "      <th>4</th>\n",
              "      <td>5</td>\n",
              "      <td>2018</td>\n",
              "      <td>Switzerland</td>\n",
              "      <td>7.487</td>\n",
              "      <td>1.420</td>\n",
              "      <td>1.549</td>\n",
              "      <td>0.927</td>\n",
              "      <td>0.660</td>\n",
              "      <td>0.256</td>\n",
              "      <td>0.357</td>\n",
              "    </tr>\n",
              "  </tbody>\n",
              "</table>\n",
              "</div>\n",
              "      <button class=\"colab-df-convert\" onclick=\"convertToInteractive('df-69cdf9fd-e2c8-46aa-b54b-1665a6ef3c15')\"\n",
              "              title=\"Convert this dataframe to an interactive table.\"\n",
              "              style=\"display:none;\">\n",
              "        \n",
              "  <svg xmlns=\"http://www.w3.org/2000/svg\" height=\"24px\"viewBox=\"0 0 24 24\"\n",
              "       width=\"24px\">\n",
              "    <path d=\"M0 0h24v24H0V0z\" fill=\"none\"/>\n",
              "    <path d=\"M18.56 5.44l.94 2.06.94-2.06 2.06-.94-2.06-.94-.94-2.06-.94 2.06-2.06.94zm-11 1L8.5 8.5l.94-2.06 2.06-.94-2.06-.94L8.5 2.5l-.94 2.06-2.06.94zm10 10l.94 2.06.94-2.06 2.06-.94-2.06-.94-.94-2.06-.94 2.06-2.06.94z\"/><path d=\"M17.41 7.96l-1.37-1.37c-.4-.4-.92-.59-1.43-.59-.52 0-1.04.2-1.43.59L10.3 9.45l-7.72 7.72c-.78.78-.78 2.05 0 2.83L4 21.41c.39.39.9.59 1.41.59.51 0 1.02-.2 1.41-.59l7.78-7.78 2.81-2.81c.8-.78.8-2.07 0-2.86zM5.41 20L4 18.59l7.72-7.72 1.47 1.35L5.41 20z\"/>\n",
              "  </svg>\n",
              "      </button>\n",
              "      \n",
              "  <style>\n",
              "    .colab-df-container {\n",
              "      display:flex;\n",
              "      flex-wrap:wrap;\n",
              "      gap: 12px;\n",
              "    }\n",
              "\n",
              "    .colab-df-convert {\n",
              "      background-color: #E8F0FE;\n",
              "      border: none;\n",
              "      border-radius: 50%;\n",
              "      cursor: pointer;\n",
              "      display: none;\n",
              "      fill: #1967D2;\n",
              "      height: 32px;\n",
              "      padding: 0 0 0 0;\n",
              "      width: 32px;\n",
              "    }\n",
              "\n",
              "    .colab-df-convert:hover {\n",
              "      background-color: #E2EBFA;\n",
              "      box-shadow: 0px 1px 2px rgba(60, 64, 67, 0.3), 0px 1px 3px 1px rgba(60, 64, 67, 0.15);\n",
              "      fill: #174EA6;\n",
              "    }\n",
              "\n",
              "    [theme=dark] .colab-df-convert {\n",
              "      background-color: #3B4455;\n",
              "      fill: #D2E3FC;\n",
              "    }\n",
              "\n",
              "    [theme=dark] .colab-df-convert:hover {\n",
              "      background-color: #434B5C;\n",
              "      box-shadow: 0px 1px 3px 1px rgba(0, 0, 0, 0.15);\n",
              "      filter: drop-shadow(0px 1px 2px rgba(0, 0, 0, 0.3));\n",
              "      fill: #FFFFFF;\n",
              "    }\n",
              "  </style>\n",
              "\n",
              "      <script>\n",
              "        const buttonEl =\n",
              "          document.querySelector('#df-69cdf9fd-e2c8-46aa-b54b-1665a6ef3c15 button.colab-df-convert');\n",
              "        buttonEl.style.display =\n",
              "          google.colab.kernel.accessAllowed ? 'block' : 'none';\n",
              "\n",
              "        async function convertToInteractive(key) {\n",
              "          const element = document.querySelector('#df-69cdf9fd-e2c8-46aa-b54b-1665a6ef3c15');\n",
              "          const dataTable =\n",
              "            await google.colab.kernel.invokeFunction('convertToInteractive',\n",
              "                                                     [key], {});\n",
              "          if (!dataTable) return;\n",
              "\n",
              "          const docLinkHtml = 'Like what you see? Visit the ' +\n",
              "            '<a target=\"_blank\" href=https://colab.research.google.com/notebooks/data_table.ipynb>data table notebook</a>'\n",
              "            + ' to learn more about interactive tables.';\n",
              "          element.innerHTML = '';\n",
              "          dataTable['output_type'] = 'display_data';\n",
              "          await google.colab.output.renderOutput(dataTable, element);\n",
              "          const docLink = document.createElement('div');\n",
              "          docLink.innerHTML = docLinkHtml;\n",
              "          element.appendChild(docLink);\n",
              "        }\n",
              "      </script>\n",
              "    </div>\n",
              "  </div>\n",
              "  "
            ]
          },
          "metadata": {},
          "execution_count": 8
        }
      ]
    },
    {
      "cell_type": "markdown",
      "metadata": {
        "id": "y3ha10SpN27E"
      },
      "source": [
        "# Metrics\n",
        "Identify which metrics you will be using to test your model and say why they are appropriate."
      ]
    },
    {
      "cell_type": "markdown",
      "source": [
        "We will be doing a regression algorithm to determine how the machine can assess happiness levels agains the overall ranking in column 1.  We will use the r^2 value to assess the performance of the models.  This is appropriate as r^2 values can measure regression models instead of using accuracy."
      ],
      "metadata": {
        "id": "jOA1xEKhV8XZ"
      }
    },
    {
      "cell_type": "markdown",
      "metadata": {
        "id": "67v8fsFBN7TR"
      },
      "source": [
        "# Baseline Performance\n",
        "Identify a baseline for your metrics - what would you expect to happen with this particular data if you always guessed the average or if you guessed randomly? What did some of the unsuccessful machine learning algorithms yield?"
      ]
    },
    {
      "cell_type": "markdown",
      "source": [
        "The baseline for our metrics is around an accuracy score of .0174.  This is a dummy classifier algorithm that removes Country from the dataset, and then evaluates its accuracy on how well the model did to predict which country a new ramen review is from.  This is the \"unsmart\" model that would happen if you guessed randomly each time."
      ],
      "metadata": {
        "id": "aZEEr_B91O5P"
      }
    },
    {
      "cell_type": "code",
      "metadata": {
        "id": "mGE56w6bN5_N",
        "colab": {
          "base_uri": "https://localhost:8080/"
        },
        "outputId": "c19ed11d-abdf-4c65-9747-911b5e42555f"
      },
      "source": [
        "# build and test a baseline model here\n",
        "from sklearn.dummy import DummyRegressor\n",
        "from sklearn.model_selection import train_test_split\n",
        "from sklearn import metrics\n",
        "\n",
        "predictors = ['GDP per capita', 'Social support and Family', 'Freedom to make life choices', 'Generosity']\n",
        "target = 'Score'\n",
        "\n",
        "train_data, test_data, train_sln, test_sln = train_test_split(happy[predictors], happy[target], test_size = 0.2, random_state = 41)\n",
        "train_data.head()\n",
        "\n",
        "baseline = DummyRegressor()\n",
        "baseline.fit(train_data, train_sln)\n",
        "baseline_pred = baseline.predict(test_data)\n",
        "\n",
        "print('r^2: ', metrics.r2_score(test_sln, baseline_pred))"
      ],
      "execution_count": 9,
      "outputs": [
        {
          "output_type": "stream",
          "name": "stdout",
          "text": [
            "r^2:  -0.0005261696220115741\n"
          ]
        }
      ]
    },
    {
      "cell_type": "markdown",
      "metadata": {
        "id": "bot75U5WOLLT"
      },
      "source": [
        "# Model planning and Execution\n",
        "Identify which learning algorithms you have tried and which important parameters you’ve tuned for each one.\n"
      ]
    },
    {
      "cell_type": "code",
      "metadata": {
        "id": "oTqOhnnGOQOZ",
        "colab": {
          "base_uri": "https://localhost:8080/"
        },
        "outputId": "67fd535c-cd42-421a-c939-a5fe3d06f038"
      },
      "source": [
        "# Execute your plan here (build and test your models to answer your question)\n",
        "\n",
        "# knn\n",
        "import numpy as np\n",
        "from sklearn import neighbors\n",
        "from sklearn.preprocessing import StandardScaler\n",
        "\n",
        "knn = neighbors.KNeighborsRegressor(n_neighbors=25)\n",
        "knn.fit(train_data,train_sln)\n",
        "happy_preds = knn.predict(test_data)\n",
        "print('r^2: ', metrics.r2_score(test_sln, happy_preds))"
      ],
      "execution_count": 25,
      "outputs": [
        {
          "output_type": "stream",
          "name": "stdout",
          "text": [
            "r^2:  0.7592632189911994\n"
          ]
        }
      ]
    },
    {
      "cell_type": "code",
      "source": [
        "#Weighted knn\n",
        "wknn = neighbors.KNeighborsRegressor(n_neighbors=25, weights = 'distance')\n",
        "wknn.fit(train_data,train_sln)\n",
        "whappy_preds = wknn.predict(test_data)\n",
        "print('r^2: ', metrics.r2_score(test_sln, whappy_preds))"
      ],
      "metadata": {
        "colab": {
          "base_uri": "https://localhost:8080/"
        },
        "id": "a75_mEmeDUu3",
        "outputId": "415305fd-a9b8-42e6-d128-96d8025a5c83"
      },
      "execution_count": 29,
      "outputs": [
        {
          "output_type": "stream",
          "name": "stdout",
          "text": [
            "r^2:  0.7718920142168043\n"
          ]
        }
      ]
    },
    {
      "cell_type": "code",
      "source": [
        "#Decision Tree\n",
        "from sklearn import tree\n",
        "from sklearn import metrics\n",
        "\n",
        "dt = tree.DecisionTreeRegressor(random_state = 40)\n",
        "dt.fit(train_data,train_sln)\n",
        "dt_happy_preds = dt.predict(test_data)\n",
        "print('r^2: ', metrics.r2_score(test_sln, dt_happy_preds))"
      ],
      "metadata": {
        "colab": {
          "base_uri": "https://localhost:8080/"
        },
        "id": "e2dhetmJDthT",
        "outputId": "8e8cb816-50dc-4583-db24-572d4b592ba3"
      },
      "execution_count": 33,
      "outputs": [
        {
          "output_type": "stream",
          "name": "stdout",
          "text": [
            "r^2:  0.6051901153153285\n"
          ]
        }
      ]
    },
    {
      "cell_type": "code",
      "source": [
        "#Random Forest\n",
        "from sklearn.ensemble import RandomForestRegressor\n",
        "rf = RandomForestRegressor(random_state = 40)\n",
        "rf.fit(train_data, train_sln)\n",
        "rf_preds = rf.predict(test_data)\n",
        "print('r^2: ', metrics.r2_score(test_sln, rf_preds))"
      ],
      "metadata": {
        "colab": {
          "base_uri": "https://localhost:8080/"
        },
        "id": "IqKRNam2EYgf",
        "outputId": "390ca207-c09f-42f3-b731-7b47516e8237"
      },
      "execution_count": 32,
      "outputs": [
        {
          "output_type": "stream",
          "name": "stdout",
          "text": [
            "r^2:  0.7929901560577577\n"
          ]
        }
      ]
    },
    {
      "cell_type": "markdown",
      "metadata": {
        "id": "kMaqpNm4O9Qy"
      },
      "source": [
        "# Results\n",
        "After you conduct your learning experiment, summarize the results you got. Include visualizations (i.e. graphs) where appropriate.  How did you find the best k, n, m or other variables that you needed to tune. "
      ]
    },
    {
      "cell_type": "markdown",
      "source": [
        "For the knn and weighted knn models, I played around with different k values to maximize the r^2 value.  I found that the range of 20-30 for k value were the strongest, with 25 being the peak of that metric.  The r^2 values for these models were .759 for the knn, and .771 for the weighted knn model."
      ],
      "metadata": {
        "id": "9HU-UXqAVK8m"
      }
    },
    {
      "cell_type": "markdown",
      "source": [
        "For the decision tree and random forest models, I used a random state @40 to evaluate the model and make it reproducible. The r^2 values for these models were .605 for the decision tree, and .793 for the random forest."
      ],
      "metadata": {
        "id": "y_SGyXH8V8WI"
      }
    },
    {
      "cell_type": "code",
      "metadata": {
        "id": "5X_7-hMLPB-Z"
      },
      "source": [
        "# Include code to show your results (graphs, etc)\n",
        "import matplotlib.pyplot as plt\n",
        "import pandas as pd\n",
        "from sklearn import datasets, neighbors\n",
        "from mlxtend.plotting import plot_decision_regions"
      ],
      "execution_count": 38,
      "outputs": []
    },
    {
      "cell_type": "code",
      "source": [
        "  def r2(k):\n",
        "    knn = neighbors.KNeighborsRegressor(n_neighbors = k)\n",
        "    knn.fit(train_data, train_sln)\n",
        "    preds = knn.predict(test_data)\n",
        "    knn_r2 = metrics.r2_score(test_sln, preds)\n",
        "    return knn_r2\n",
        "\n",
        "  points = 30\n",
        "  series = []\n",
        "  for i in range (1, points):\n",
        "    val = r2(i)\n",
        "    series.append(val)\n",
        "\n",
        "  xvals = range(1, points)\n",
        "  plt.suptitle('R^2 by K Values')\n",
        "  plt.plot(xvals, series, 'ro-')\n",
        "  plt.axis([1, 30, 0, 1])\n",
        "  plt.xlabel('K')\n",
        "  plt.ylabel('R^2')\n",
        "  plt.show()\n",
        "\n",
        "knn = neighbors.KNeighborsRegressor(n_neighbors=25)\n",
        "knn.fit(train_data,train_sln)\n",
        "happy_preds = knn.predict(test_data)\n",
        "print('r^2: ', metrics.r2_score(test_sln, happy_preds))"
      ],
      "metadata": {
        "colab": {
          "base_uri": "https://localhost:8080/",
          "height": 325
        },
        "id": "QkvzYNkHq7Jq",
        "outputId": "29d8e45a-8142-4d77-c194-472ac13351b5"
      },
      "execution_count": 56,
      "outputs": [
        {
          "output_type": "display_data",
          "data": {
            "text/plain": [
              "<Figure size 432x288 with 1 Axes>"
            ],
            "image/png": "[encoded data removed]"
          },
          "metadata": {
            "needs_background": "light"
          }
        },
        {
          "output_type": "stream",
          "name": "stdout",
          "text": [
            "r^2:  0.7592632189911994\n"
          ]
        }
      ]
    },
    {
      "cell_type": "code",
      "source": [
        "  def w_r2(k):\n",
        "    wknn = neighbors.KNeighborsRegressor(n_neighbors = k, weights = 'distance')\n",
        "    wknn.fit(train_data, train_sln)\n",
        "    preds = wknn.predict(test_data)\n",
        "    wknn_r2 = metrics.r2_score(test_sln, preds)\n",
        "    return wknn_r2\n",
        "\n",
        "  points = 30\n",
        "  series = []\n",
        "  for i in range (1, points):\n",
        "    val = w_r2(i)\n",
        "    series.append(val)\n",
        "\n",
        "  xvals = range(1, points)\n",
        "  plt.suptitle('Weighted R^2 by K Values')\n",
        "  plt.plot(xvals, series, 'ro-')\n",
        "  plt.axis([1, 30, 0, 1])\n",
        "  plt.xlabel('K')\n",
        "  plt.ylabel('R^2')\n",
        "  plt.show()\n",
        "\n",
        "wknn = neighbors.KNeighborsRegressor(n_neighbors=25, weights = 'distance')\n",
        "wknn.fit(train_data,train_sln)\n",
        "whappy_preds = wknn.predict(test_data)\n",
        "print('r^2: ', metrics.r2_score(test_sln, whappy_preds))"
      ],
      "metadata": {
        "id": "8k67U4XSbNEE",
        "outputId": "bd4fed95-07b1-4ca5-d518-bf879e040460",
        "colab": {
          "base_uri": "https://localhost:8080/",
          "height": 325
        }
      },
      "execution_count": 57,
      "outputs": [
        {
          "output_type": "display_data",
          "data": {
            "text/plain": [
              "<Figure size 432x288 with 1 Axes>"
            ],
            "image/png": "[encoded data removed]"
          },
          "metadata": {
            "needs_background": "light"
          }
        },
        {
          "output_type": "stream",
          "name": "stdout",
          "text": [
            "r^2:  0.7718920142168043\n"
          ]
        }
      ]
    },
    {
      "cell_type": "code",
      "source": [
        "def classifiers_all_kNN(test_data,train_data,k):\n",
        "  \n",
        "    results = []\n",
        "    for i in range(len(test_data)):\n",
        "      prediction = classifiers_kNN(test_data.iloc[i], train_data,k)\n",
        "      results.append(prediction)\n",
        "    return pandas.Series(results)"
      ],
      "metadata": {
        "id": "WExAGaCJXGF0"
      },
      "execution_count": null,
      "outputs": []
    },
    {
      "cell_type": "code",
      "source": [
        "import matplotlib.pyplot as plt\n",
        "k_vals = [1, 3, 5, 7, 9, 21, 23, 25, 27, 29, 41, 53, 69, 101, 149]\n",
        "kNN_acc = []\n",
        "\n",
        "for k in k_vals:\n",
        "  predictions = classifiers_all_kNN(test_data, train_data, k)\n",
        "  current_acc = accuracy(test_data['Life expectancy'], predictions)\n",
        "  kNN_acc.append(current_acc)\n",
        "\n",
        "plt.suptitle('Country of Origin kNN Study', fontsize = 15)\n",
        "plt.xlabel('k')\n",
        "plt.ylabel('Accuracy')\n",
        "plt.plot(k_vals, kNN_acc, 'ro-', label = 'kNN')\n",
        "plt.legend(loc = 'lower right', shadow =True)\n",
        "plt.axis([0,150,0,100])\n",
        "\n",
        "plt.show()"
      ],
      "metadata": {
        "id": "SX80fTFxWufX",
        "outputId": "47425c22-f311-4791-ad0a-841b417c704e",
        "colab": {
          "base_uri": "https://localhost:8080/",
          "height": 356
        }
      },
      "execution_count": null,
      "outputs": [
        {
          "output_type": "error",
          "ename": "NameError",
          "evalue": "ignored",
          "traceback": [
            "\u001b[0;31m---------------------------------------------------------------------------\u001b[0m",
            "\u001b[0;31mNameError\u001b[0m                                 Traceback (most recent call last)",
            "\u001b[0;32m<ipython-input-38-5545b15be8a9>\u001b[0m in \u001b[0;36m<module>\u001b[0;34m()\u001b[0m\n\u001b[1;32m      4\u001b[0m \u001b[0;34m\u001b[0m\u001b[0m\n\u001b[1;32m      5\u001b[0m \u001b[0;32mfor\u001b[0m \u001b[0mk\u001b[0m \u001b[0;32min\u001b[0m \u001b[0mk_vals\u001b[0m\u001b[0;34m:\u001b[0m\u001b[0;34m\u001b[0m\u001b[0;34m\u001b[0m\u001b[0m\n\u001b[0;32m----> 6\u001b[0;31m   \u001b[0mpredictions\u001b[0m \u001b[0;34m=\u001b[0m \u001b[0mclassifiers_all_kNN\u001b[0m\u001b[0;34m(\u001b[0m\u001b[0mtest_data\u001b[0m\u001b[0;34m,\u001b[0m \u001b[0mtrain_data\u001b[0m\u001b[0;34m,\u001b[0m \u001b[0mk\u001b[0m\u001b[0;34m)\u001b[0m\u001b[0;34m\u001b[0m\u001b[0;34m\u001b[0m\u001b[0m\n\u001b[0m\u001b[1;32m      7\u001b[0m   \u001b[0mcurrent_acc\u001b[0m \u001b[0;34m=\u001b[0m \u001b[0maccuracy\u001b[0m\u001b[0;34m(\u001b[0m\u001b[0mtest_data\u001b[0m\u001b[0;34m[\u001b[0m\u001b[0;34m'Life expectancy'\u001b[0m\u001b[0;34m]\u001b[0m\u001b[0;34m,\u001b[0m \u001b[0mpredictions\u001b[0m\u001b[0;34m)\u001b[0m\u001b[0;34m\u001b[0m\u001b[0;34m\u001b[0m\u001b[0m\n\u001b[1;32m      8\u001b[0m   \u001b[0mkNN_acc\u001b[0m\u001b[0;34m.\u001b[0m\u001b[0mappend\u001b[0m\u001b[0;34m(\u001b[0m\u001b[0mcurrent_acc\u001b[0m\u001b[0;34m)\u001b[0m\u001b[0;34m\u001b[0m\u001b[0;34m\u001b[0m\u001b[0m\n",
            "\u001b[0;32m<ipython-input-37-d0bb4597f5b7>\u001b[0m in \u001b[0;36mclassifiers_all_kNN\u001b[0;34m(test_data, train_data, k)\u001b[0m\n\u001b[1;32m      3\u001b[0m     \u001b[0mresults\u001b[0m \u001b[0;34m=\u001b[0m \u001b[0;34m[\u001b[0m\u001b[0;34m]\u001b[0m\u001b[0;34m\u001b[0m\u001b[0;34m\u001b[0m\u001b[0m\n\u001b[1;32m      4\u001b[0m     \u001b[0;32mfor\u001b[0m \u001b[0mi\u001b[0m \u001b[0;32min\u001b[0m \u001b[0mrange\u001b[0m\u001b[0;34m(\u001b[0m\u001b[0mlen\u001b[0m\u001b[0;34m(\u001b[0m\u001b[0mtest_data\u001b[0m\u001b[0;34m)\u001b[0m\u001b[0;34m)\u001b[0m\u001b[0;34m:\u001b[0m\u001b[0;34m\u001b[0m\u001b[0;34m\u001b[0m\u001b[0m\n\u001b[0;32m----> 5\u001b[0;31m       \u001b[0mprediction\u001b[0m \u001b[0;34m=\u001b[0m \u001b[0mclassifiers_kNN\u001b[0m\u001b[0;34m(\u001b[0m\u001b[0mtest_data\u001b[0m\u001b[0;34m.\u001b[0m\u001b[0miloc\u001b[0m\u001b[0;34m[\u001b[0m\u001b[0mi\u001b[0m\u001b[0;34m]\u001b[0m\u001b[0;34m,\u001b[0m \u001b[0mtrain_data\u001b[0m\u001b[0;34m,\u001b[0m\u001b[0mk\u001b[0m\u001b[0;34m)\u001b[0m\u001b[0;34m\u001b[0m\u001b[0;34m\u001b[0m\u001b[0m\n\u001b[0m\u001b[1;32m      6\u001b[0m       \u001b[0mresults\u001b[0m\u001b[0;34m.\u001b[0m\u001b[0mappend\u001b[0m\u001b[0;34m(\u001b[0m\u001b[0mprediction\u001b[0m\u001b[0;34m)\u001b[0m\u001b[0;34m\u001b[0m\u001b[0;34m\u001b[0m\u001b[0m\n\u001b[1;32m      7\u001b[0m     \u001b[0;32mreturn\u001b[0m \u001b[0mpandas\u001b[0m\u001b[0;34m.\u001b[0m\u001b[0mSeries\u001b[0m\u001b[0;34m(\u001b[0m\u001b[0mresults\u001b[0m\u001b[0;34m)\u001b[0m\u001b[0;34m\u001b[0m\u001b[0;34m\u001b[0m\u001b[0m\n",
            "\u001b[0;31mNameError\u001b[0m: name 'classifiers_kNN' is not defined"
          ]
        }
      ]
    },
    {
      "cell_type": "markdown",
      "metadata": {
        "id": "wAOCA1Q0OWS4"
      },
      "source": [
        "# Bumps in the Road:\n",
        "What challenges did you encounter? How did you overcome these challenges? Did you have to adapt your strategy to account for these challenges? Why or why not?\n"
      ]
    },
    {
      "cell_type": "markdown",
      "source": [
        "I had many different challenges when working with this dataset, and I still have a lot to comb through with the model execution due to my interest in finding specific Countries that produce better ramen than others.  Some specific problems I had included separating and identifying the \"Top Ten\" ramen reviews from the NaN values and the \"2016 #2\" type examples. Another challenge I had was deciding what objective I wanted to find from this dataset.  Deciding if I wanted to do a classifier for the Country of origin, or regression for predicted rating (Stars) based on other predictors was something I went back and forth on. Lastly, converting the string values for brands into floats is a challenge I don't believe I have overcame.  I still have work to do on this ML Project, and I will be working in the next couple days to solve these issues."
      ],
      "metadata": {
        "id": "dfLiAVyHWQ_d"
      }
    },
    {
      "cell_type": "markdown",
      "metadata": {
        "id": "qBSirz71PG62"
      },
      "source": [
        "# Conclusions\n",
        "What insights/recommendations do you have? What did you find that was interesting? Which model was your best model, which models didn't work well? Why do you think this is? In general, I want a discussion of your experiment, the results, and what they mean."
      ]
    },
    {
      "cell_type": "code",
      "metadata": {
        "id": "OIOYqMZIPOoc"
      },
      "source": [
        ""
      ],
      "execution_count": null,
      "outputs": []
    },
    {
      "cell_type": "markdown",
      "source": [
        "When I originally did this ML program with a Regression to find the predicted Rating of a type of ramen based on the other predictors, I ran into many issues as one might tell as the accuracy of predicting the rating was not a telling predictor for the quality of ramen.  After switching to a Classifier, I had a better chance to find if there is quality differences based on Country of Origin.  From the model, the knn Classifier was the best model compared to Decision Trees and Random Forests.  I would appreciate some insight and feedback on how to solve these problems I'm running into."
      ],
      "metadata": {
        "id": "ejQ2OllDS1ja"
      }
    }
  ]
}