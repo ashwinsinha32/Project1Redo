{
  "nbformat": 4,
  "nbformat_minor": 0,
  "metadata": {
    "colab": {
      "name": "Project1_starter.ipynb",
      "provenance": [],
      "collapsed_sections": [],
      "include_colab_link": true
    },
    "kernelspec": {
      "name": "python3",
      "display_name": "Python 3"
    },
    "accelerator": "GPU"
  },
  "cells": [
    {
      "cell_type": "markdown",
      "metadata": {
        "id": "view-in-github",
        "colab_type": "text"
      },
      "source": [
        "<a href=\"https://colab.research.google.com/github/ashwinsinha32/Project1Redo/blob/main/Project1_starter.ipynb\" target=\"_parent\"><img src=\"https://colab.research.google.com/assets/colab-badge.svg\" alt=\"Open In Colab\"/></a>"
      ]
    },
    {
      "cell_type": "markdown",
      "source": [
        "# Name: Ashwin Sinha"
      ],
      "metadata": {
        "id": "_g3UFb9b8UvP"
      }
    },
    {
      "cell_type": "markdown",
      "metadata": {
        "id": "F9AOhxuO9Vt7"
      },
      "source": [
        "# Project \\#1 Starter Code: \n",
        "Your first step is to decide which dataset you would like to work with for this project. You can find the data on Blackboard. \n",
        "\n",
        "I will be using the Happiness dataset:\n"
      ]
    },
    {
      "cell_type": "code",
      "metadata": {
        "colab": {
          "base_uri": "https://localhost:8080/",
          "height": 285
        },
        "id": "5N97IBe79Mfp",
        "outputId": "0b9e2512-ccfb-4ce4-c410-b632a58084e8"
      },
      "source": [
        "from google.colab import drive\n",
        "import pandas as pd\n",
        "drive.mount('/content/drive')\n",
        "happy =pd.read_csv('/content/drive/MyDrive/CS167Spring22/datasets/happiness_data.csv')\n",
        "happy.head()"
      ],
      "execution_count": 1,
      "outputs": [
        {
          "output_type": "stream",
          "name": "stdout",
          "text": [
            "Mounted at /content/drive\n"
          ]
        },
        {
          "output_type": "execute_result",
          "data": {
            "text/plain": [
              "   Overall rank  Year Country or region  Score  GDP per capita  \\\n",
              "0             1  2018           Finland  7.632           1.305   \n",
              "1             2  2018            Norway  7.594           1.456   \n",
              "2             3  2018           Denmark  7.555           1.351   \n",
              "3             4  2018           Iceland  7.495           1.343   \n",
              "4             5  2018       Switzerland  7.487           1.420   \n",
              "\n",
              "   Social support and Family  Healthy life expectancy  \\\n",
              "0                      1.592                    0.874   \n",
              "1                      1.582                    0.861   \n",
              "2                      1.590                    0.868   \n",
              "3                      1.644                    0.914   \n",
              "4                      1.549                    0.927   \n",
              "\n",
              "   Freedom to make life choices  Generosity  Perceptions of corruption  \n",
              "0                         0.681       0.202                      0.393  \n",
              "1                         0.686       0.286                      0.340  \n",
              "2                         0.683       0.284                      0.408  \n",
              "3                         0.677       0.353                      0.138  \n",
              "4                         0.660       0.256                      0.357  "
            ],
            "text/html": [
              "\n",
              "  <div id=\"df-c0c5c346-5878-4a28-8537-4120b9a54b0d\">\n",
              "    <div class=\"colab-df-container\">\n",
              "      <div>\n",
              "<style scoped>\n",
              "    .dataframe tbody tr th:only-of-type {\n",
              "        vertical-align: middle;\n",
              "    }\n",
              "\n",
              "    .dataframe tbody tr th {\n",
              "        vertical-align: top;\n",
              "    }\n",
              "\n",
              "    .dataframe thead th {\n",
              "        text-align: right;\n",
              "    }\n",
              "</style>\n",
              "<table border=\"1\" class=\"dataframe\">\n",
              "  <thead>\n",
              "    <tr style=\"text-align: right;\">\n",
              "      <th></th>\n",
              "      <th>Overall rank</th>\n",
              "      <th>Year</th>\n",
              "      <th>Country or region</th>\n",
              "      <th>Score</th>\n",
              "      <th>GDP per capita</th>\n",
              "      <th>Social support and Family</th>\n",
              "      <th>Healthy life expectancy</th>\n",
              "      <th>Freedom to make life choices</th>\n",
              "      <th>Generosity</th>\n",
              "      <th>Perceptions of corruption</th>\n",
              "    </tr>\n",
              "  </thead>\n",
              "  <tbody>\n",
              "    <tr>\n",
              "      <th>0</th>\n",
              "      <td>1</td>\n",
              "      <td>2018</td>\n",
              "      <td>Finland</td>\n",
              "      <td>7.632</td>\n",
              "      <td>1.305</td>\n",
              "      <td>1.592</td>\n",
              "      <td>0.874</td>\n",
              "      <td>0.681</td>\n",
              "      <td>0.202</td>\n",
              "      <td>0.393</td>\n",
              "    </tr>\n",
              "    <tr>\n",
              "      <th>1</th>\n",
              "      <td>2</td>\n",
              "      <td>2018</td>\n",
              "      <td>Norway</td>\n",
              "      <td>7.594</td>\n",
              "      <td>1.456</td>\n",
              "      <td>1.582</td>\n",
              "      <td>0.861</td>\n",
              "      <td>0.686</td>\n",
              "      <td>0.286</td>\n",
              "      <td>0.340</td>\n",
              "    </tr>\n",
              "    <tr>\n",
              "      <th>2</th>\n",
              "      <td>3</td>\n",
              "      <td>2018</td>\n",
              "      <td>Denmark</td>\n",
              "      <td>7.555</td>\n",
              "      <td>1.351</td>\n",
              "      <td>1.590</td>\n",
              "      <td>0.868</td>\n",
              "      <td>0.683</td>\n",
              "      <td>0.284</td>\n",
              "      <td>0.408</td>\n",
              "    </tr>\n",
              "    <tr>\n",
              "      <th>3</th>\n",
              "      <td>4</td>\n",
              "      <td>2018</td>\n",
              "      <td>Iceland</td>\n",
              "      <td>7.495</td>\n",
              "      <td>1.343</td>\n",
              "      <td>1.644</td>\n",
              "      <td>0.914</td>\n",
              "      <td>0.677</td>\n",
              "      <td>0.353</td>\n",
              "      <td>0.138</td>\n",
              "    </tr>\n",
              "    <tr>\n",
              "      <th>4</th>\n",
              "      <td>5</td>\n",
              "      <td>2018</td>\n",
              "      <td>Switzerland</td>\n",
              "      <td>7.487</td>\n",
              "      <td>1.420</td>\n",
              "      <td>1.549</td>\n",
              "      <td>0.927</td>\n",
              "      <td>0.660</td>\n",
              "      <td>0.256</td>\n",
              "      <td>0.357</td>\n",
              "    </tr>\n",
              "  </tbody>\n",
              "</table>\n",
              "</div>\n",
              "      <button class=\"colab-df-convert\" onclick=\"convertToInteractive('df-c0c5c346-5878-4a28-8537-4120b9a54b0d')\"\n",
              "              title=\"Convert this dataframe to an interactive table.\"\n",
              "              style=\"display:none;\">\n",
              "        \n",
              "  <svg xmlns=\"http://www.w3.org/2000/svg\" height=\"24px\"viewBox=\"0 0 24 24\"\n",
              "       width=\"24px\">\n",
              "    <path d=\"M0 0h24v24H0V0z\" fill=\"none\"/>\n",
              "    <path d=\"M18.56 5.44l.94 2.06.94-2.06 2.06-.94-2.06-.94-.94-2.06-.94 2.06-2.06.94zm-11 1L8.5 8.5l.94-2.06 2.06-.94-2.06-.94L8.5 2.5l-.94 2.06-2.06.94zm10 10l.94 2.06.94-2.06 2.06-.94-2.06-.94-.94-2.06-.94 2.06-2.06.94z\"/><path d=\"M17.41 7.96l-1.37-1.37c-.4-.4-.92-.59-1.43-.59-.52 0-1.04.2-1.43.59L10.3 9.45l-7.72 7.72c-.78.78-.78 2.05 0 2.83L4 21.41c.39.39.9.59 1.41.59.51 0 1.02-.2 1.41-.59l7.78-7.78 2.81-2.81c.8-.78.8-2.07 0-2.86zM5.41 20L4 18.59l7.72-7.72 1.47 1.35L5.41 20z\"/>\n",
              "  </svg>\n",
              "      </button>\n",
              "      \n",
              "  <style>\n",
              "    .colab-df-container {\n",
              "      display:flex;\n",
              "      flex-wrap:wrap;\n",
              "      gap: 12px;\n",
              "    }\n",
              "\n",
              "    .colab-df-convert {\n",
              "      background-color: #E8F0FE;\n",
              "      border: none;\n",
              "      border-radius: 50%;\n",
              "      cursor: pointer;\n",
              "      display: none;\n",
              "      fill: #1967D2;\n",
              "      height: 32px;\n",
              "      padding: 0 0 0 0;\n",
              "      width: 32px;\n",
              "    }\n",
              "\n",
              "    .colab-df-convert:hover {\n",
              "      background-color: #E2EBFA;\n",
              "      box-shadow: 0px 1px 2px rgba(60, 64, 67, 0.3), 0px 1px 3px 1px rgba(60, 64, 67, 0.15);\n",
              "      fill: #174EA6;\n",
              "    }\n",
              "\n",
              "    [theme=dark] .colab-df-convert {\n",
              "      background-color: #3B4455;\n",
              "      fill: #D2E3FC;\n",
              "    }\n",
              "\n",
              "    [theme=dark] .colab-df-convert:hover {\n",
              "      background-color: #434B5C;\n",
              "      box-shadow: 0px 1px 3px 1px rgba(0, 0, 0, 0.15);\n",
              "      filter: drop-shadow(0px 1px 2px rgba(0, 0, 0, 0.3));\n",
              "      fill: #FFFFFF;\n",
              "    }\n",
              "  </style>\n",
              "\n",
              "      <script>\n",
              "        const buttonEl =\n",
              "          document.querySelector('#df-c0c5c346-5878-4a28-8537-4120b9a54b0d button.colab-df-convert');\n",
              "        buttonEl.style.display =\n",
              "          google.colab.kernel.accessAllowed ? 'block' : 'none';\n",
              "\n",
              "        async function convertToInteractive(key) {\n",
              "          const element = document.querySelector('#df-c0c5c346-5878-4a28-8537-4120b9a54b0d');\n",
              "          const dataTable =\n",
              "            await google.colab.kernel.invokeFunction('convertToInteractive',\n",
              "                                                     [key], {});\n",
              "          if (!dataTable) return;\n",
              "\n",
              "          const docLinkHtml = 'Like what you see? Visit the ' +\n",
              "            '<a target=\"_blank\" href=https://colab.research.google.com/notebooks/data_table.ipynb>data table notebook</a>'\n",
              "            + ' to learn more about interactive tables.';\n",
              "          element.innerHTML = '';\n",
              "          dataTable['output_type'] = 'display_data';\n",
              "          await google.colab.output.renderOutput(dataTable, element);\n",
              "          const docLink = document.createElement('div');\n",
              "          docLink.innerHTML = docLinkHtml;\n",
              "          element.appendChild(docLink);\n",
              "        }\n",
              "      </script>\n",
              "    </div>\n",
              "  </div>\n",
              "  "
            ]
          },
          "metadata": {},
          "execution_count": 1
        }
      ]
    },
    {
      "cell_type": "markdown",
      "metadata": {
        "id": "7SfueFgsNdNt"
      },
      "source": [
        "# Problem: \n",
        "Which dataset are you going to use? What questions are you going to ask about this dataset? Make sure that you can answer the question using ML models. What are your predictor variables and target variable?"
      ]
    },
    {
      "cell_type": "markdown",
      "source": [
        "I will be using the Happiness dataset to determine which countries have the highest happiness score given the numerous features we have available, from generosity levels to life expectancy predictions. With this information, we can evaluate a country's happiness ranking, along with predicting the general pleasure one might gain from living in a country. Target Variable = Score |\n",
        "Predictor Variables = GDP per capita, generosity, freedom to make life choices, and social support and family."
      ],
      "metadata": {
        "id": "7ZU4TX4BfYxv"
      }
    },
    {
      "cell_type": "markdown",
      "metadata": {
        "id": "yM_lNmrrNw6S"
      },
      "source": [
        "# Data Preparation\n",
        "Explain your data prep. What did you do to get your data in the shape for your experiments? (e.g. creation of dummy variables, filling in missing values, etc). "
      ]
    },
    {
      "cell_type": "markdown",
      "source": [
        "The original dataset has 2,580 rows, but after dropping rops that contained a value of \"Unrated\" in the Stars category, we reduced it down to 2,577 rows.  We then needed to convert NaN values in the \"Top Ten\" category to zero to do our analysis.  Additionally, I created a couple different subsets based on different predictors as well as a subset that contained all the values of the highest rating \"Top Ten\" values since 2012.  This subset called TopRamen contains 37 rows.  TopRamenHQ shows which countries the best ramen are from, along with the brand and a couple other features.  Lastly, we created dummy variables to give binary nunmbers to the brand and style of ramen so that we can convert them to a quantitative figure."
      ],
      "metadata": {
        "id": "UJ6E2mtQKVyu"
      }
    },
    {
      "cell_type": "code",
      "metadata": {
        "id": "S-L1vVEe90YD",
        "colab": {
          "base_uri": "https://localhost:8080/"
        },
        "outputId": "2ffb6b0c-6b9c-4c5f-cd2c-5fe26525a60b"
      },
      "source": [
        "# data prep code \n",
        "happy.shape"
      ],
      "execution_count": 2,
      "outputs": [
        {
          "output_type": "execute_result",
          "data": {
            "text/plain": [
              "(782, 10)"
            ]
          },
          "metadata": {},
          "execution_count": 2
        }
      ]
    },
    {
      "cell_type": "code",
      "source": [
        "happy['GDP per capita'].isnull().values.any()\n",
        "happy['Social support and Family'].isnull().values.any()\n",
        "happy['Generosity'].isnull().values.any()\n",
        "happy['Freedom to make life choices'].isnull().values.any()\n",
        "\n",
        "\n",
        "print(\"after: \", happy.shape)"
      ],
      "metadata": {
        "colab": {
          "base_uri": "https://localhost:8080/"
        },
        "id": "U50233gFj_OC",
        "outputId": "a0101482-7922-402f-b7cb-6c8c05c70c75"
      },
      "execution_count": 3,
      "outputs": [
        {
          "output_type": "stream",
          "name": "stdout",
          "text": [
            "after:  (782, 10)\n"
          ]
        }
      ]
    },
    {
      "cell_type": "code",
      "source": [
        "happy2 = happy.dropna( subset = ['Country or region']).copy()\n",
        "print(\"after: \", happy2.shape)"
      ],
      "metadata": {
        "colab": {
          "base_uri": "https://localhost:8080/"
        },
        "id": "NcW5KLpmlw0i",
        "outputId": "4eacd696-4325-4f4e-dc3c-c8add94de21b"
      },
      "execution_count": 4,
      "outputs": [
        {
          "output_type": "stream",
          "name": "stdout",
          "text": [
            "after:  (782, 10)\n"
          ]
        }
      ]
    },
    {
      "cell_type": "code",
      "source": [
        "happy2 = happy[happy2[\"Year\"].astype(str).str.contains('2018')]\n",
        "happy2.head()"
      ],
      "metadata": {
        "colab": {
          "base_uri": "https://localhost:8080/",
          "height": 267
        },
        "id": "rHxHc-WylhUX",
        "outputId": "64a4aa04-5390-40de-f6c3-2e3fce73935d"
      },
      "execution_count": 5,
      "outputs": [
        {
          "output_type": "execute_result",
          "data": {
            "text/plain": [
              "   Overall rank  Year Country or region  Score  GDP per capita  \\\n",
              "0             1  2018           Finland  7.632           1.305   \n",
              "1             2  2018            Norway  7.594           1.456   \n",
              "2             3  2018           Denmark  7.555           1.351   \n",
              "3             4  2018           Iceland  7.495           1.343   \n",
              "4             5  2018       Switzerland  7.487           1.420   \n",
              "\n",
              "   Social support and Family  Healthy life expectancy  \\\n",
              "0                      1.592                    0.874   \n",
              "1                      1.582                    0.861   \n",
              "2                      1.590                    0.868   \n",
              "3                      1.644                    0.914   \n",
              "4                      1.549                    0.927   \n",
              "\n",
              "   Freedom to make life choices  Generosity  Perceptions of corruption  \n",
              "0                         0.681       0.202                      0.393  \n",
              "1                         0.686       0.286                      0.340  \n",
              "2                         0.683       0.284                      0.408  \n",
              "3                         0.677       0.353                      0.138  \n",
              "4                         0.660       0.256                      0.357  "
            ],
            "text/html": [
              "\n",
              "  <div id=\"df-a3077b06-1b53-4d57-b19a-3967e582c35d\">\n",
              "    <div class=\"colab-df-container\">\n",
              "      <div>\n",
              "<style scoped>\n",
              "    .dataframe tbody tr th:only-of-type {\n",
              "        vertical-align: middle;\n",
              "    }\n",
              "\n",
              "    .dataframe tbody tr th {\n",
              "        vertical-align: top;\n",
              "    }\n",
              "\n",
              "    .dataframe thead th {\n",
              "        text-align: right;\n",
              "    }\n",
              "</style>\n",
              "<table border=\"1\" class=\"dataframe\">\n",
              "  <thead>\n",
              "    <tr style=\"text-align: right;\">\n",
              "      <th></th>\n",
              "      <th>Overall rank</th>\n",
              "      <th>Year</th>\n",
              "      <th>Country or region</th>\n",
              "      <th>Score</th>\n",
              "      <th>GDP per capita</th>\n",
              "      <th>Social support and Family</th>\n",
              "      <th>Healthy life expectancy</th>\n",
              "      <th>Freedom to make life choices</th>\n",
              "      <th>Generosity</th>\n",
              "      <th>Perceptions of corruption</th>\n",
              "    </tr>\n",
              "  </thead>\n",
              "  <tbody>\n",
              "    <tr>\n",
              "      <th>0</th>\n",
              "      <td>1</td>\n",
              "      <td>2018</td>\n",
              "      <td>Finland</td>\n",
              "      <td>7.632</td>\n",
              "      <td>1.305</td>\n",
              "      <td>1.592</td>\n",
              "      <td>0.874</td>\n",
              "      <td>0.681</td>\n",
              "      <td>0.202</td>\n",
              "      <td>0.393</td>\n",
              "    </tr>\n",
              "    <tr>\n",
              "      <th>1</th>\n",
              "      <td>2</td>\n",
              "      <td>2018</td>\n",
              "      <td>Norway</td>\n",
              "      <td>7.594</td>\n",
              "      <td>1.456</td>\n",
              "      <td>1.582</td>\n",
              "      <td>0.861</td>\n",
              "      <td>0.686</td>\n",
              "      <td>0.286</td>\n",
              "      <td>0.340</td>\n",
              "    </tr>\n",
              "    <tr>\n",
              "      <th>2</th>\n",
              "      <td>3</td>\n",
              "      <td>2018</td>\n",
              "      <td>Denmark</td>\n",
              "      <td>7.555</td>\n",
              "      <td>1.351</td>\n",
              "      <td>1.590</td>\n",
              "      <td>0.868</td>\n",
              "      <td>0.683</td>\n",
              "      <td>0.284</td>\n",
              "      <td>0.408</td>\n",
              "    </tr>\n",
              "    <tr>\n",
              "      <th>3</th>\n",
              "      <td>4</td>\n",
              "      <td>2018</td>\n",
              "      <td>Iceland</td>\n",
              "      <td>7.495</td>\n",
              "      <td>1.343</td>\n",
              "      <td>1.644</td>\n",
              "      <td>0.914</td>\n",
              "      <td>0.677</td>\n",
              "      <td>0.353</td>\n",
              "      <td>0.138</td>\n",
              "    </tr>\n",
              "    <tr>\n",
              "      <th>4</th>\n",
              "      <td>5</td>\n",
              "      <td>2018</td>\n",
              "      <td>Switzerland</td>\n",
              "      <td>7.487</td>\n",
              "      <td>1.420</td>\n",
              "      <td>1.549</td>\n",
              "      <td>0.927</td>\n",
              "      <td>0.660</td>\n",
              "      <td>0.256</td>\n",
              "      <td>0.357</td>\n",
              "    </tr>\n",
              "  </tbody>\n",
              "</table>\n",
              "</div>\n",
              "      <button class=\"colab-df-convert\" onclick=\"convertToInteractive('df-a3077b06-1b53-4d57-b19a-3967e582c35d')\"\n",
              "              title=\"Convert this dataframe to an interactive table.\"\n",
              "              style=\"display:none;\">\n",
              "        \n",
              "  <svg xmlns=\"http://www.w3.org/2000/svg\" height=\"24px\"viewBox=\"0 0 24 24\"\n",
              "       width=\"24px\">\n",
              "    <path d=\"M0 0h24v24H0V0z\" fill=\"none\"/>\n",
              "    <path d=\"M18.56 5.44l.94 2.06.94-2.06 2.06-.94-2.06-.94-.94-2.06-.94 2.06-2.06.94zm-11 1L8.5 8.5l.94-2.06 2.06-.94-2.06-.94L8.5 2.5l-.94 2.06-2.06.94zm10 10l.94 2.06.94-2.06 2.06-.94-2.06-.94-.94-2.06-.94 2.06-2.06.94z\"/><path d=\"M17.41 7.96l-1.37-1.37c-.4-.4-.92-.59-1.43-.59-.52 0-1.04.2-1.43.59L10.3 9.45l-7.72 7.72c-.78.78-.78 2.05 0 2.83L4 21.41c.39.39.9.59 1.41.59.51 0 1.02-.2 1.41-.59l7.78-7.78 2.81-2.81c.8-.78.8-2.07 0-2.86zM5.41 20L4 18.59l7.72-7.72 1.47 1.35L5.41 20z\"/>\n",
              "  </svg>\n",
              "      </button>\n",
              "      \n",
              "  <style>\n",
              "    .colab-df-container {\n",
              "      display:flex;\n",
              "      flex-wrap:wrap;\n",
              "      gap: 12px;\n",
              "    }\n",
              "\n",
              "    .colab-df-convert {\n",
              "      background-color: #E8F0FE;\n",
              "      border: none;\n",
              "      border-radius: 50%;\n",
              "      cursor: pointer;\n",
              "      display: none;\n",
              "      fill: #1967D2;\n",
              "      height: 32px;\n",
              "      padding: 0 0 0 0;\n",
              "      width: 32px;\n",
              "    }\n",
              "\n",
              "    .colab-df-convert:hover {\n",
              "      background-color: #E2EBFA;\n",
              "      box-shadow: 0px 1px 2px rgba(60, 64, 67, 0.3), 0px 1px 3px 1px rgba(60, 64, 67, 0.15);\n",
              "      fill: #174EA6;\n",
              "    }\n",
              "\n",
              "    [theme=dark] .colab-df-convert {\n",
              "      background-color: #3B4455;\n",
              "      fill: #D2E3FC;\n",
              "    }\n",
              "\n",
              "    [theme=dark] .colab-df-convert:hover {\n",
              "      background-color: #434B5C;\n",
              "      box-shadow: 0px 1px 3px 1px rgba(0, 0, 0, 0.15);\n",
              "      filter: drop-shadow(0px 1px 2px rgba(0, 0, 0, 0.3));\n",
              "      fill: #FFFFFF;\n",
              "    }\n",
              "  </style>\n",
              "\n",
              "      <script>\n",
              "        const buttonEl =\n",
              "          document.querySelector('#df-a3077b06-1b53-4d57-b19a-3967e582c35d button.colab-df-convert');\n",
              "        buttonEl.style.display =\n",
              "          google.colab.kernel.accessAllowed ? 'block' : 'none';\n",
              "\n",
              "        async function convertToInteractive(key) {\n",
              "          const element = document.querySelector('#df-a3077b06-1b53-4d57-b19a-3967e582c35d');\n",
              "          const dataTable =\n",
              "            await google.colab.kernel.invokeFunction('convertToInteractive',\n",
              "                                                     [key], {});\n",
              "          if (!dataTable) return;\n",
              "\n",
              "          const docLinkHtml = 'Like what you see? Visit the ' +\n",
              "            '<a target=\"_blank\" href=https://colab.research.google.com/notebooks/data_table.ipynb>data table notebook</a>'\n",
              "            + ' to learn more about interactive tables.';\n",
              "          element.innerHTML = '';\n",
              "          dataTable['output_type'] = 'display_data';\n",
              "          await google.colab.output.renderOutput(dataTable, element);\n",
              "          const docLink = document.createElement('div');\n",
              "          docLink.innerHTML = docLinkHtml;\n",
              "          element.appendChild(docLink);\n",
              "        }\n",
              "      </script>\n",
              "    </div>\n",
              "  </div>\n",
              "  "
            ]
          },
          "metadata": {},
          "execution_count": 5
        }
      ]
    },
    {
      "cell_type": "markdown",
      "metadata": {
        "id": "y3ha10SpN27E"
      },
      "source": [
        "# Metrics\n",
        "Identify which metrics you will be using to test your model and say why they are appropriate."
      ]
    },
    {
      "cell_type": "markdown",
      "source": [
        "We will be doing a regression algorithm to determine how the machine can assess happiness levels agains the overall ranking in column 1.  We will use the r^2 value to assess the performance of the models.  This is appropriate as r^2 values can measure regression models instead of using accuracy."
      ],
      "metadata": {
        "id": "jOA1xEKhV8XZ"
      }
    },
    {
      "cell_type": "markdown",
      "metadata": {
        "id": "67v8fsFBN7TR"
      },
      "source": [
        "# Baseline Performance\n",
        "Identify a baseline for your metrics - what would you expect to happen with this particular data if you always guessed the average or if you guessed randomly? What did some of the unsuccessful machine learning algorithms yield?"
      ]
    },
    {
      "cell_type": "markdown",
      "source": [
        "The baseline for our metrics is around an accuracy score of .0174.  This is a dummy classifier algorithm that removes Country from the dataset, and then evaluates its accuracy on how well the model did to predict which country a new ramen review is from.  This is the \"unsmart\" model that would happen if you guessed randomly each time."
      ],
      "metadata": {
        "id": "aZEEr_B91O5P"
      }
    },
    {
      "cell_type": "code",
      "metadata": {
        "id": "mGE56w6bN5_N",
        "colab": {
          "base_uri": "https://localhost:8080/"
        },
        "outputId": "70c40db8-70b9-4371-92e3-0cc5d83c1ce5"
      },
      "source": [
        "# build and test a baseline model here\n",
        "from sklearn.dummy import DummyRegressor\n",
        "from sklearn.model_selection import train_test_split\n",
        "from sklearn import metrics\n",
        "\n",
        "predictors = ['GDP per capita', 'Social support and Family', 'Freedom to make life choices', 'Generosity']\n",
        "target = 'Score'\n",
        "\n",
        "train_data, test_data, train_sln, test_sln = train_test_split(happy[predictors], happy[target], test_size = 0.2, random_state = 41)\n",
        "train_data.head()\n",
        "\n",
        "baseline = DummyRegressor()\n",
        "baseline.fit(train_data, train_sln)\n",
        "baseline_pred = baseline.predict(test_data)\n",
        "\n",
        "print('r^2: ', metrics.r2_score(test_sln, baseline_pred))"
      ],
      "execution_count": 6,
      "outputs": [
        {
          "output_type": "stream",
          "name": "stdout",
          "text": [
            "r^2:  -0.0005261696220115741\n"
          ]
        }
      ]
    },
    {
      "cell_type": "markdown",
      "metadata": {
        "id": "bot75U5WOLLT"
      },
      "source": [
        "# Model planning and Execution\n",
        "Identify which learning algorithms you have tried and which important parameters you’ve tuned for each one.\n"
      ]
    },
    {
      "cell_type": "code",
      "metadata": {
        "id": "oTqOhnnGOQOZ",
        "colab": {
          "base_uri": "https://localhost:8080/"
        },
        "outputId": "eb1630c1-943f-42cd-de00-6f1270c5b1a4"
      },
      "source": [
        "# Execute your plan here (build and test your models to answer your question)\n",
        "\n",
        "# knn\n",
        "import numpy as np\n",
        "from sklearn import neighbors\n",
        "from sklearn.preprocessing import StandardScaler\n",
        "\n",
        "knn = neighbors.KNeighborsRegressor(n_neighbors=25)\n",
        "knn.fit(train_data,train_sln)\n",
        "happy_preds = knn.predict(test_data)\n",
        "print('r^2: ', metrics.r2_score(test_sln, happy_preds))"
      ],
      "execution_count": 7,
      "outputs": [
        {
          "output_type": "stream",
          "name": "stdout",
          "text": [
            "r^2:  0.7592632189911994\n"
          ]
        }
      ]
    },
    {
      "cell_type": "code",
      "source": [
        "#Weighted knn\n",
        "wknn = neighbors.KNeighborsRegressor(n_neighbors=25, weights = 'distance')\n",
        "wknn.fit(train_data,train_sln)\n",
        "whappy_preds = wknn.predict(test_data)\n",
        "print('r^2: ', metrics.r2_score(test_sln, whappy_preds))"
      ],
      "metadata": {
        "colab": {
          "base_uri": "https://localhost:8080/"
        },
        "id": "a75_mEmeDUu3",
        "outputId": "6e8e3eb5-dbea-4b47-8299-3ba714a16660"
      },
      "execution_count": 8,
      "outputs": [
        {
          "output_type": "stream",
          "name": "stdout",
          "text": [
            "r^2:  0.7718920142168043\n"
          ]
        }
      ]
    },
    {
      "cell_type": "code",
      "source": [
        "#Decision Tree\n",
        "from sklearn import tree\n",
        "from sklearn import metrics\n",
        "\n",
        "dt = tree.DecisionTreeRegressor(random_state = 40)\n",
        "dt.fit(train_data,train_sln)\n",
        "dt_happy_preds = dt.predict(test_data)\n",
        "print('r^2: ', metrics.r2_score(test_sln, dt_happy_preds))"
      ],
      "metadata": {
        "colab": {
          "base_uri": "https://localhost:8080/"
        },
        "id": "e2dhetmJDthT",
        "outputId": "f32189d9-1718-4d59-f95a-821d174f01c6"
      },
      "execution_count": 9,
      "outputs": [
        {
          "output_type": "stream",
          "name": "stdout",
          "text": [
            "r^2:  0.6051901153153285\n"
          ]
        }
      ]
    },
    {
      "cell_type": "code",
      "source": [
        "#Random Forest\n",
        "from sklearn.ensemble import RandomForestRegressor\n",
        "rf = RandomForestRegressor(random_state = 40)\n",
        "rf.fit(train_data, train_sln)\n",
        "rf_preds = rf.predict(test_data)\n",
        "print('r^2: ', metrics.r2_score(test_sln, rf_preds))"
      ],
      "metadata": {
        "colab": {
          "base_uri": "https://localhost:8080/"
        },
        "id": "IqKRNam2EYgf",
        "outputId": "68e54f34-439d-4a06-cab4-48cdae1a72c5"
      },
      "execution_count": 10,
      "outputs": [
        {
          "output_type": "stream",
          "name": "stdout",
          "text": [
            "r^2:  0.7929901560577577\n"
          ]
        }
      ]
    },
    {
      "cell_type": "markdown",
      "metadata": {
        "id": "kMaqpNm4O9Qy"
      },
      "source": [
        "# Results\n",
        "After you conduct your learning experiment, summarize the results you got. Include visualizations (i.e. graphs) where appropriate.  How did you find the best k, n, m or other variables that you needed to tune. "
      ]
    },
    {
      "cell_type": "markdown",
      "source": [
        "For the knn and weighted knn models, I played around with different k values to maximize the r^2 value.  I found that the range of 20-30 for k value were the strongest, with 25 being the peak of that metric.  The r^2 values for these models were .759 for the knn, and .771 for the weighted knn model."
      ],
      "metadata": {
        "id": "9HU-UXqAVK8m"
      }
    },
    {
      "cell_type": "markdown",
      "source": [
        "For the decision tree and random forest models, I used a random state @40 to evaluate the model and make it reproducible. The r^2 values for these models were .605 for the decision tree, and .793 for the random forest."
      ],
      "metadata": {
        "id": "y_SGyXH8V8WI"
      }
    },
    {
      "cell_type": "code",
      "metadata": {
        "id": "5X_7-hMLPB-Z"
      },
      "source": [
        "# Include code to show your results (graphs, etc)\n",
        "import matplotlib.pyplot as plt\n",
        "import pandas as pd\n",
        "from sklearn import datasets, neighbors\n",
        "from mlxtend.plotting import plot_decision_regions"
      ],
      "execution_count": 11,
      "outputs": []
    },
    {
      "cell_type": "code",
      "source": [
        "  def r2(k):\n",
        "    knn = neighbors.KNeighborsRegressor(n_neighbors = k)\n",
        "    knn.fit(train_data, train_sln)\n",
        "    preds = knn.predict(test_data)\n",
        "    knn_r2 = metrics.r2_score(test_sln, preds)\n",
        "    return knn_r2\n",
        "\n",
        "  points = 30\n",
        "  series = []\n",
        "  for i in range (1, points):\n",
        "    val = r2(i)\n",
        "    series.append(val)\n",
        "\n",
        "  xvals = range(1, points)\n",
        "  plt.suptitle('R^2 by K Values')\n",
        "  plt.plot(xvals, series, 'ro-')\n",
        "  plt.axis([1, 30, 0.4, 1])\n",
        "  plt.xlabel('K')\n",
        "  plt.ylabel('R^2')\n",
        "  plt.show()\n",
        "\n",
        "knn = neighbors.KNeighborsRegressor(n_neighbors=25)\n",
        "knn.fit(train_data,train_sln)\n",
        "happy_preds = knn.predict(test_data)\n",
        "print('r^2: ', metrics.r2_score(test_sln, happy_preds))"
      ],
      "metadata": {
        "colab": {
          "base_uri": "https://localhost:8080/",
          "height": 325
        },
        "id": "QkvzYNkHq7Jq",
        "outputId": "9dfaaead-fe17-4125-c01c-aab11456f240"
      },
      "execution_count": 12,
      "outputs": [
        {
          "output_type": "display_data",
          "data": {
            "text/plain": [
              "<Figure size 432x288 with 1 Axes>"
            ],
            "image/png": "[encoded data removed]"
          },
          "metadata": {
            "needs_background": "light"
          }
        },
        {
          "output_type": "stream",
          "name": "stdout",
          "text": [
            "r^2:  0.7592632189911994\n"
          ]
        }
      ]
    },
    {
      "cell_type": "code",
      "source": [
        "  def w_r2(k):\n",
        "    wknn = neighbors.KNeighborsRegressor(n_neighbors = k, weights = 'distance')\n",
        "    wknn.fit(train_data, train_sln)\n",
        "    preds = wknn.predict(test_data)\n",
        "    wknn_r2 = metrics.r2_score(test_sln, preds)\n",
        "    return wknn_r2\n",
        "\n",
        "  points = 30\n",
        "  series = []\n",
        "  for i in range (1, points):\n",
        "    val = w_r2(i)\n",
        "    series.append(val)\n",
        "\n",
        "  xvals = range(1, points)\n",
        "  plt.suptitle('Weighted R^2 by K Values')\n",
        "  plt.plot(xvals, series, 'ro-')\n",
        "  plt.axis([1, 30, 0.4, 1])\n",
        "  plt.xlabel('K')\n",
        "  plt.ylabel('R^2')\n",
        "  plt.show()\n",
        "\n",
        "wknn = neighbors.KNeighborsRegressor(n_neighbors=25, weights = 'distance')\n",
        "wknn.fit(train_data,train_sln)\n",
        "whappy_preds = wknn.predict(test_data)\n",
        "print('r^2: ', metrics.r2_score(test_sln, whappy_preds))"
      ],
      "metadata": {
        "colab": {
          "base_uri": "https://localhost:8080/",
          "height": 325
        },
        "id": "8k67U4XSbNEE",
        "outputId": "dda42711-26ff-45b3-ce3d-d0494c7a3a16"
      },
      "execution_count": 13,
      "outputs": [
        {
          "output_type": "display_data",
          "data": {
            "text/plain": [
              "<Figure size 432x288 with 1 Axes>"
            ],
            "image/png": "[encoded data removed]"
          },
          "metadata": {
            "needs_background": "light"
          }
        },
        {
          "output_type": "stream",
          "name": "stdout",
          "text": [
            "r^2:  0.7718920142168043\n"
          ]
        }
      ]
    },
    {
      "cell_type": "code",
      "source": [
        "#Decision Tree\n",
        "from sklearn.tree import DecisionTreeRegressor\n",
        "\n",
        "def dt_r2(train, test, train_sln, test_sln, max_dep):\n",
        "  tree = DecisionTreeRegressor(random_state = 41,max_depth=max_dep)\n",
        "  tree.fit(train, train_sln)\n",
        "  prediction = tree.predict(test)\n",
        "  r2 = metrics.r2_score(test_sln, prediction)\n",
        "  return r2"
      ],
      "metadata": {
        "id": "RIxhXNcKVNof"
      },
      "execution_count": 18,
      "outputs": []
    },
    {
      "cell_type": "code",
      "source": [
        "number_of_trees = range(10,50,10)\n",
        "r2 = []\n",
        "\n",
        "for n in number_of_trees:\n",
        "  r2.append(r2(train_data,test_data, train_sln, test_sln, max_dep))\n",
        "\n",
        "  xvals = range(1, points)\n",
        "  plt.suptitle('R^2 by # of Trees')\n",
        "  plt.plot(number_of_trees, r2, 'bo-')\n",
        "  plt.axis([1, 30, 0, 1])\n",
        "  plt.xlabel('# of Trees')\n",
        "  plt.ylabel('R^2')\n",
        "  plt.show()"
      ],
      "metadata": {
        "colab": {
          "base_uri": "https://localhost:8080/",
          "height": 235
        },
        "id": "qqz5aMt2egVS",
        "outputId": "1599503d-6776-4105-dc5e-68be2ea910ad"
      },
      "execution_count": 20,
      "outputs": [
        {
          "output_type": "error",
          "ename": "NameError",
          "evalue": "ignored",
          "traceback": [
            "\u001b[0;31m---------------------------------------------------------------------------\u001b[0m",
            "\u001b[0;31mNameError\u001b[0m                                 Traceback (most recent call last)",
            "\u001b[0;32m<ipython-input-20-1b9fafa2fdab>\u001b[0m in \u001b[0;36m<module>\u001b[0;34m()\u001b[0m\n\u001b[1;32m      3\u001b[0m \u001b[0;34m\u001b[0m\u001b[0m\n\u001b[1;32m      4\u001b[0m \u001b[0;32mfor\u001b[0m \u001b[0mn\u001b[0m \u001b[0;32min\u001b[0m \u001b[0mnumber_of_trees\u001b[0m\u001b[0;34m:\u001b[0m\u001b[0;34m\u001b[0m\u001b[0;34m\u001b[0m\u001b[0m\n\u001b[0;32m----> 5\u001b[0;31m   \u001b[0mr2\u001b[0m\u001b[0;34m.\u001b[0m\u001b[0mappend\u001b[0m\u001b[0;34m(\u001b[0m\u001b[0mr2\u001b[0m\u001b[0;34m(\u001b[0m\u001b[0mtrain_data\u001b[0m\u001b[0;34m,\u001b[0m\u001b[0mtest_data\u001b[0m\u001b[0;34m,\u001b[0m \u001b[0mtrain_sln\u001b[0m\u001b[0;34m,\u001b[0m \u001b[0mtest_sln\u001b[0m\u001b[0;34m,\u001b[0m \u001b[0mmax_dep\u001b[0m\u001b[0;34m)\u001b[0m\u001b[0;34m)\u001b[0m\u001b[0;34m\u001b[0m\u001b[0;34m\u001b[0m\u001b[0m\n\u001b[0m\u001b[1;32m      6\u001b[0m \u001b[0;34m\u001b[0m\u001b[0m\n\u001b[1;32m      7\u001b[0m   \u001b[0mxvals\u001b[0m \u001b[0;34m=\u001b[0m \u001b[0mrange\u001b[0m\u001b[0;34m(\u001b[0m\u001b[0;36m1\u001b[0m\u001b[0;34m,\u001b[0m \u001b[0mpoints\u001b[0m\u001b[0;34m)\u001b[0m\u001b[0;34m\u001b[0m\u001b[0;34m\u001b[0m\u001b[0m\n",
            "\u001b[0;31mNameError\u001b[0m: name 'max_dep' is not defined"
          ]
        }
      ]
    },
    {
      "cell_type": "code",
      "source": [
        "dt_results = DecisionTreeRegressor(random_state = 41, max_depth = 5)\n",
        "dt_results.fit(train_data, train_sln)\n",
        "dt_results_predict = dt_results.predict(test_data)\n",
        "\n",
        "print('r2: ', metrics.r2_score(test_sln, dt_results_predict))"
      ],
      "metadata": {
        "colab": {
          "base_uri": "https://localhost:8080/"
        },
        "id": "YTC-QqNHegwU",
        "outputId": "ad9e7a02-0b83-4477-c0f0-55d973a71f80"
      },
      "execution_count": 21,
      "outputs": [
        {
          "output_type": "stream",
          "name": "stdout",
          "text": [
            "r2:  0.7443015382297515\n"
          ]
        }
      ]
    },
    {
      "cell_type": "code",
      "source": [
        "#Random Forest\n",
        "def rf_mse(train, test, train_sln, test_sln, n_est, max_dep):\n",
        "  forest = RandomForestRegressor(random_state = 41, n_estimators=n_est, max_depth=max_dep)\n",
        "  forest.fit(train, train_sln)\n",
        "  pred = forest.predict(test)\n",
        "  mse = metrics.mean_squared_error(test_sln, pred)\n",
        "  return mse"
      ],
      "metadata": {
        "id": "fUaQGReVVnlx"
      },
      "execution_count": 22,
      "outputs": []
    },
    {
      "cell_type": "code",
      "source": [
        "n_trees = range(10,100,10)\n",
        "mse = []\n",
        "\n",
        "for n in n_trees:\n",
        "  mse.append(rf_mse(train_data, test_data, train_sln, test_sln, n, None))\n",
        "\n",
        "from matplotlib import pyplot as plt\n",
        "%matplotlib inline\n",
        "plt.suptitle(\"Mean Squarred Error by # of Trees\", fontsize=18)\n",
        "plt.xlabel('# Trees')\n",
        "plt.ylabel('MSE')\n",
        "plt.plot(n_trees, mse, 'ro-')\n",
        "plt.show()"
      ],
      "metadata": {
        "id": "Nk5GHrsgVsXj",
        "outputId": "a1c58c06-57e2-47b7-bf25-74ac4ec16b9a",
        "colab": {
          "base_uri": "https://localhost:8080/",
          "height": 308
        }
      },
      "execution_count": 23,
      "outputs": [
        {
          "output_type": "display_data",
          "data": {
            "text/plain": [
              "<Figure size 432x288 with 1 Axes>"
            ],
            "image/png": "[encoded data removed]"
          },
          "metadata": {
            "needs_background": "light"
          }
        }
      ]
    },
    {
      "cell_type": "code",
      "source": [
        "forest_results = RandomForestRegressor(random_state = 41, max_depth = 8, n_estimators = 40)\n",
        "forest_results.fit(train_data, train_sln)\n",
        "forest_results_predict = forest_results.predict(test_data)\n",
        "\n",
        "print('r2: ', metrics.r2_score(test_sln, forest_results_predict))"
      ],
      "metadata": {
        "id": "qK7t9y88VwJQ",
        "outputId": "1771ac41-6c06-454b-b611-6355eb225fc8",
        "colab": {
          "base_uri": "https://localhost:8080/"
        }
      },
      "execution_count": 24,
      "outputs": [
        {
          "output_type": "stream",
          "name": "stdout",
          "text": [
            "r2:  0.782501296390773\n"
          ]
        }
      ]
    },
    {
      "cell_type": "code",
      "source": [
        "#Feature importance chart\n",
        "\n",
        "index = range(len(predictors))\n",
        "\n",
        "plt.figure(figsize=(8,10))\n",
        "plt.barh(index,forest.feature_importances_,height=0.35)\n",
        "plt.ylabel('Predictors')\n",
        "plt.yticks(index, predictors)\n",
        "plt.xlabel(\"Random Forests Predictor Importances\")\n",
        "plt.show()"
      ],
      "metadata": {
        "id": "uCWeJ-bQV2v3",
        "outputId": "5141d185-c6a9-4d6f-c8ba-d8d5009302e7",
        "colab": {
          "base_uri": "https://localhost:8080/",
          "height": 252
        }
      },
      "execution_count": 27,
      "outputs": [
        {
          "output_type": "error",
          "ename": "NameError",
          "evalue": "ignored",
          "traceback": [
            "\u001b[0;31m---------------------------------------------------------------------------\u001b[0m",
            "\u001b[0;31mNameError\u001b[0m                                 Traceback (most recent call last)",
            "\u001b[0;32m<ipython-input-27-44b1e7035089>\u001b[0m in \u001b[0;36m<module>\u001b[0;34m()\u001b[0m\n\u001b[1;32m      4\u001b[0m \u001b[0;34m\u001b[0m\u001b[0m\n\u001b[1;32m      5\u001b[0m \u001b[0mplt\u001b[0m\u001b[0;34m.\u001b[0m\u001b[0mfigure\u001b[0m\u001b[0;34m(\u001b[0m\u001b[0mfigsize\u001b[0m\u001b[0;34m=\u001b[0m\u001b[0;34m(\u001b[0m\u001b[0;36m8\u001b[0m\u001b[0;34m,\u001b[0m\u001b[0;36m10\u001b[0m\u001b[0;34m)\u001b[0m\u001b[0;34m)\u001b[0m\u001b[0;34m\u001b[0m\u001b[0;34m\u001b[0m\u001b[0m\n\u001b[0;32m----> 6\u001b[0;31m \u001b[0mplt\u001b[0m\u001b[0;34m.\u001b[0m\u001b[0mbarh\u001b[0m\u001b[0;34m(\u001b[0m\u001b[0mindex\u001b[0m\u001b[0;34m,\u001b[0m\u001b[0mforest\u001b[0m\u001b[0;34m.\u001b[0m\u001b[0mfeature_importances_\u001b[0m\u001b[0;34m,\u001b[0m\u001b[0mheight\u001b[0m\u001b[0;34m=\u001b[0m\u001b[0;36m0.35\u001b[0m\u001b[0;34m)\u001b[0m\u001b[0;34m\u001b[0m\u001b[0;34m\u001b[0m\u001b[0m\n\u001b[0m\u001b[1;32m      7\u001b[0m \u001b[0mplt\u001b[0m\u001b[0;34m.\u001b[0m\u001b[0mylabel\u001b[0m\u001b[0;34m(\u001b[0m\u001b[0;34m'Predictors'\u001b[0m\u001b[0;34m)\u001b[0m\u001b[0;34m\u001b[0m\u001b[0;34m\u001b[0m\u001b[0m\n\u001b[1;32m      8\u001b[0m \u001b[0mplt\u001b[0m\u001b[0;34m.\u001b[0m\u001b[0myticks\u001b[0m\u001b[0;34m(\u001b[0m\u001b[0mindex\u001b[0m\u001b[0;34m,\u001b[0m \u001b[0mpredictors\u001b[0m\u001b[0;34m)\u001b[0m\u001b[0;34m\u001b[0m\u001b[0;34m\u001b[0m\u001b[0m\n",
            "\u001b[0;31mNameError\u001b[0m: name 'forest' is not defined"
          ]
        },
        {
          "output_type": "display_data",
          "data": {
            "text/plain": [
              "<Figure size 576x720 with 0 Axes>"
            ]
          },
          "metadata": {}
        }
      ]
    },
    {
      "cell_type": "code",
      "source": [
        "from sklearn.preprocessing import StandardScaler\n",
        "\n",
        "scaler = StandardScaler()\n",
        "scaler.fit(train_data)\n",
        "train_data_normalized = scaler.transform(train_data)\n",
        "test_data_normalized = scaler.transform(test_data)"
      ],
      "metadata": {
        "id": "WExAGaCJXGF0"
      },
      "execution_count": 28,
      "outputs": []
    },
    {
      "cell_type": "code",
      "source": [
        "#Normalized knn\n",
        "neigh_normal = neighbors.KNeighborsRegressor(n_neighbors=15, weights = 'distance')\n",
        "neigh_normal.fit(train_data_normalized, train_sln)\n",
        "predictions_normal = neigh_normal.predict(test_data_normalized)\n",
        "\n",
        "print('r2: ', metrics.r2_score(test_sln, predictions_normal))"
      ],
      "metadata": {
        "id": "SX80fTFxWufX",
        "outputId": "a7fb682e-6014-4660-9c25-95307d90dd01",
        "colab": {
          "base_uri": "https://localhost:8080/"
        }
      },
      "execution_count": 36,
      "outputs": [
        {
          "output_type": "stream",
          "name": "stdout",
          "text": [
            "r2:  0.7792580654911037\n"
          ]
        }
      ]
    },
    {
      "cell_type": "code",
      "source": [
        "#Normalized weighted-kNN\n",
        "wkNN_normalized = neighbors.KNeighborsRegressor(n_neighbors=10, weights = 'distance')\n",
        "wkNN_normalized.fit(train_data_normalized, train_sln)\n",
        "wkNN_predictions_normalized = wkNN_normalized.predict(test_data_normalized)\n",
        "\n",
        "print('r2: ', metrics.r2_score(test_sln, wkNN_predictions_normalized))"
      ],
      "metadata": {
        "id": "xOq43XvNWXaO",
        "outputId": "70cc9146-b319-4eba-f252-2591689de471",
        "colab": {
          "base_uri": "https://localhost:8080/"
        }
      },
      "execution_count": 35,
      "outputs": [
        {
          "output_type": "stream",
          "name": "stdout",
          "text": [
            "r2:  0.7847720642392453\n"
          ]
        }
      ]
    },
    {
      "cell_type": "code",
      "source": [
        "#Normalized decision tree\n",
        "dt_normalized = DecisionTreeRegressor(random_state = 41, max_depth = 5)\n",
        "dt_normalized.fit(train_data, train_sln)\n",
        "dt_normalized_predict = dt_normalized.predict(test_data)\n",
        "\n",
        "print('r2: ', metrics.r2_score(test_sln, dt_normalized_predict))"
      ],
      "metadata": {
        "id": "MwYyXIyPWYau",
        "outputId": "5b4bb048-fc2d-461b-99f6-0dd3ac371aa0",
        "colab": {
          "base_uri": "https://localhost:8080/"
        }
      },
      "execution_count": 34,
      "outputs": [
        {
          "output_type": "stream",
          "name": "stdout",
          "text": [
            "r2:  0.7443015382297515\n"
          ]
        }
      ]
    },
    {
      "cell_type": "code",
      "source": [
        "#Normalized Random forest\n",
        "normal_forest = RandomForestRegressor(random_state = 41, max_depth = 8, n_estimators = 40)\n",
        "normal_forest.fit(train_data, train_sln)\n",
        "normal_forest_predict = forest_results.predict(test_data)\n",
        "\n",
        "print('r2: ', metrics.r2_score(test_sln, normal_forest_predict))"
      ],
      "metadata": {
        "id": "03waF301WbMx",
        "outputId": "94478f5f-1b05-45b1-ce0a-2609527cf4cb",
        "colab": {
          "base_uri": "https://localhost:8080/"
        }
      },
      "execution_count": 33,
      "outputs": [
        {
          "output_type": "stream",
          "name": "stdout",
          "text": [
            "r2:  0.782501296390773\n"
          ]
        }
      ]
    },
    {
      "cell_type": "markdown",
      "metadata": {
        "id": "wAOCA1Q0OWS4"
      },
      "source": [
        "# Bumps in the Road:\n",
        "What challenges did you encounter? How did you overcome these challenges? Did you have to adapt your strategy to account for these challenges? Why or why not?\n"
      ]
    },
    {
      "cell_type": "markdown",
      "source": [
        "I had many different challenges when working with this dataset, and I still have a lot to comb through with the model execution due to my interest in finding specific Countries that produce better ramen than others.  Some specific problems I had included separating and identifying the \"Top Ten\" ramen reviews from the NaN values and the \"2016 #2\" type examples. Another challenge I had was deciding what objective I wanted to find from this dataset.  Deciding if I wanted to do a classifier for the Country of origin, or regression for predicted rating (Stars) based on other predictors was something I went back and forth on. Lastly, converting the string values for brands into floats is a challenge I don't believe I have overcame.  I still have work to do on this ML Project, and I will be working in the next couple days to solve these issues."
      ],
      "metadata": {
        "id": "dfLiAVyHWQ_d"
      }
    },
    {
      "cell_type": "markdown",
      "metadata": {
        "id": "qBSirz71PG62"
      },
      "source": [
        "# Conclusions\n",
        "What insights/recommendations do you have? What did you find that was interesting? Which model was your best model, which models didn't work well? Why do you think this is? In general, I want a discussion of your experiment, the results, and what they mean."
      ]
    },
    {
      "cell_type": "code",
      "metadata": {
        "id": "OIOYqMZIPOoc"
      },
      "source": [
        ""
      ],
      "execution_count": null,
      "outputs": []
    },
    {
      "cell_type": "markdown",
      "source": [
        "When I originally did this ML program with a Regression to find the predicted Rating of a type of ramen based on the other predictors, I ran into many issues as one might tell as the accuracy of predicting the rating was not a telling predictor for the quality of ramen.  After switching to a Classifier, I had a better chance to find if there is quality differences based on Country of Origin.  From the model, the knn Classifier was the best model compared to Decision Trees and Random Forests.  I would appreciate some insight and feedback on how to solve these problems I'm running into."
      ],
      "metadata": {
        "id": "ejQ2OllDS1ja"
      }
    }
  ]
}