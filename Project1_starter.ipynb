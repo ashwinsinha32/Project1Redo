{
  "nbformat": 4,
  "nbformat_minor": 0,
  "metadata": {
    "colab": {
      "name": "Project1_starter.ipynb",
      "provenance": [],
      "collapsed_sections": [],
      "include_colab_link": true
    },
    "kernelspec": {
      "name": "python3",
      "display_name": "Python 3"
    },
    "accelerator": "GPU"
  },
  "cells": [
    {
      "cell_type": "markdown",
      "metadata": {
        "id": "view-in-github",
        "colab_type": "text"
      },
      "source": [
        "<a href=\"https://colab.research.google.com/github/ashwinsinha32/Project1Redo/blob/main/Project1_starter.ipynb\" target=\"_parent\"><img src=\"https://colab.research.google.com/assets/colab-badge.svg\" alt=\"Open In Colab\"/></a>"
      ]
    },
    {
      "cell_type": "markdown",
      "source": [
        "# Name: Ashwin Sinha"
      ],
      "metadata": {
        "id": "_g3UFb9b8UvP"
      }
    },
    {
      "cell_type": "markdown",
      "metadata": {
        "id": "F9AOhxuO9Vt7"
      },
      "source": [
        "# Project \\#1 Starter Code: \n",
        "Your first step is to decide which dataset you would like to work with for this project. You can find the data on Blackboard. \n",
        "\n",
        "I will be using the Happiness dataset:\n"
      ]
    },
    {
      "cell_type": "code",
      "metadata": {
        "colab": {
          "base_uri": "https://localhost:8080/",
          "height": 224
        },
        "id": "5N97IBe79Mfp",
        "outputId": "ab27110e-2edf-4e21-dfb7-f9cd8aee9943"
      },
      "source": [
        "from google.colab import drive\n",
        "import pandas as pd\n",
        "drive.mount('/content/drive')\n",
        "happy =pd.read_csv('/content/drive/MyDrive/CS167Spring22/datasets/happiness_data.csv')\n",
        "happy.head()"
      ],
      "execution_count": 1,
      "outputs": [
        {
          "output_type": "stream",
          "name": "stdout",
          "text": [
            "Mounted at /content/drive\n"
          ]
        },
        {
          "output_type": "execute_result",
          "data": {
            "text/plain": [
              "   Overall rank  Year Country or region  Score  GDP per capita  \\\n",
              "0             1  2018           Finland  7.632           1.305   \n",
              "1             2  2018            Norway  7.594           1.456   \n",
              "2             3  2018           Denmark  7.555           1.351   \n",
              "3             4  2018           Iceland  7.495           1.343   \n",
              "4             5  2018       Switzerland  7.487           1.420   \n",
              "\n",
              "   Social support and Family  Healthy life expectancy  \\\n",
              "0                      1.592                    0.874   \n",
              "1                      1.582                    0.861   \n",
              "2                      1.590                    0.868   \n",
              "3                      1.644                    0.914   \n",
              "4                      1.549                    0.927   \n",
              "\n",
              "   Freedom to make life choices  Generosity  Perceptions of corruption  \n",
              "0                         0.681       0.202                      0.393  \n",
              "1                         0.686       0.286                      0.340  \n",
              "2                         0.683       0.284                      0.408  \n",
              "3                         0.677       0.353                      0.138  \n",
              "4                         0.660       0.256                      0.357  "
            ],
            "text/html": [
              "\n",
              "  <div id=\"df-1d081337-f064-419a-bc32-79666c9a6616\">\n",
              "    <div class=\"colab-df-container\">\n",
              "      <div>\n",
              "<style scoped>\n",
              "    .dataframe tbody tr th:only-of-type {\n",
              "        vertical-align: middle;\n",
              "    }\n",
              "\n",
              "    .dataframe tbody tr th {\n",
              "        vertical-align: top;\n",
              "    }\n",
              "\n",
              "    .dataframe thead th {\n",
              "        text-align: right;\n",
              "    }\n",
              "</style>\n",
              "<table border=\"1\" class=\"dataframe\">\n",
              "  <thead>\n",
              "    <tr style=\"text-align: right;\">\n",
              "      <th></th>\n",
              "      <th>Overall rank</th>\n",
              "      <th>Year</th>\n",
              "      <th>Country or region</th>\n",
              "      <th>Score</th>\n",
              "      <th>GDP per capita</th>\n",
              "      <th>Social support and Family</th>\n",
              "      <th>Healthy life expectancy</th>\n",
              "      <th>Freedom to make life choices</th>\n",
              "      <th>Generosity</th>\n",
              "      <th>Perceptions of corruption</th>\n",
              "    </tr>\n",
              "  </thead>\n",
              "  <tbody>\n",
              "    <tr>\n",
              "      <th>0</th>\n",
              "      <td>1</td>\n",
              "      <td>2018</td>\n",
              "      <td>Finland</td>\n",
              "      <td>7.632</td>\n",
              "      <td>1.305</td>\n",
              "      <td>1.592</td>\n",
              "      <td>0.874</td>\n",
              "      <td>0.681</td>\n",
              "      <td>0.202</td>\n",
              "      <td>0.393</td>\n",
              "    </tr>\n",
              "    <tr>\n",
              "      <th>1</th>\n",
              "      <td>2</td>\n",
              "      <td>2018</td>\n",
              "      <td>Norway</td>\n",
              "      <td>7.594</td>\n",
              "      <td>1.456</td>\n",
              "      <td>1.582</td>\n",
              "      <td>0.861</td>\n",
              "      <td>0.686</td>\n",
              "      <td>0.286</td>\n",
              "      <td>0.340</td>\n",
              "    </tr>\n",
              "    <tr>\n",
              "      <th>2</th>\n",
              "      <td>3</td>\n",
              "      <td>2018</td>\n",
              "      <td>Denmark</td>\n",
              "      <td>7.555</td>\n",
              "      <td>1.351</td>\n",
              "      <td>1.590</td>\n",
              "      <td>0.868</td>\n",
              "      <td>0.683</td>\n",
              "      <td>0.284</td>\n",
              "      <td>0.408</td>\n",
              "    </tr>\n",
              "    <tr>\n",
              "      <th>3</th>\n",
              "      <td>4</td>\n",
              "      <td>2018</td>\n",
              "      <td>Iceland</td>\n",
              "      <td>7.495</td>\n",
              "      <td>1.343</td>\n",
              "      <td>1.644</td>\n",
              "      <td>0.914</td>\n",
              "      <td>0.677</td>\n",
              "      <td>0.353</td>\n",
              "      <td>0.138</td>\n",
              "    </tr>\n",
              "    <tr>\n",
              "      <th>4</th>\n",
              "      <td>5</td>\n",
              "      <td>2018</td>\n",
              "      <td>Switzerland</td>\n",
              "      <td>7.487</td>\n",
              "      <td>1.420</td>\n",
              "      <td>1.549</td>\n",
              "      <td>0.927</td>\n",
              "      <td>0.660</td>\n",
              "      <td>0.256</td>\n",
              "      <td>0.357</td>\n",
              "    </tr>\n",
              "  </tbody>\n",
              "</table>\n",
              "</div>\n",
              "      <button class=\"colab-df-convert\" onclick=\"convertToInteractive('df-1d081337-f064-419a-bc32-79666c9a6616')\"\n",
              "              title=\"Convert this dataframe to an interactive table.\"\n",
              "              style=\"display:none;\">\n",
              "        \n",
              "  <svg xmlns=\"http://www.w3.org/2000/svg\" height=\"24px\"viewBox=\"0 0 24 24\"\n",
              "       width=\"24px\">\n",
              "    <path d=\"M0 0h24v24H0V0z\" fill=\"none\"/>\n",
              "    <path d=\"M18.56 5.44l.94 2.06.94-2.06 2.06-.94-2.06-.94-.94-2.06-.94 2.06-2.06.94zm-11 1L8.5 8.5l.94-2.06 2.06-.94-2.06-.94L8.5 2.5l-.94 2.06-2.06.94zm10 10l.94 2.06.94-2.06 2.06-.94-2.06-.94-.94-2.06-.94 2.06-2.06.94z\"/><path d=\"M17.41 7.96l-1.37-1.37c-.4-.4-.92-.59-1.43-.59-.52 0-1.04.2-1.43.59L10.3 9.45l-7.72 7.72c-.78.78-.78 2.05 0 2.83L4 21.41c.39.39.9.59 1.41.59.51 0 1.02-.2 1.41-.59l7.78-7.78 2.81-2.81c.8-.78.8-2.07 0-2.86zM5.41 20L4 18.59l7.72-7.72 1.47 1.35L5.41 20z\"/>\n",
              "  </svg>\n",
              "      </button>\n",
              "      \n",
              "  <style>\n",
              "    .colab-df-container {\n",
              "      display:flex;\n",
              "      flex-wrap:wrap;\n",
              "      gap: 12px;\n",
              "    }\n",
              "\n",
              "    .colab-df-convert {\n",
              "      background-color: #E8F0FE;\n",
              "      border: none;\n",
              "      border-radius: 50%;\n",
              "      cursor: pointer;\n",
              "      display: none;\n",
              "      fill: #1967D2;\n",
              "      height: 32px;\n",
              "      padding: 0 0 0 0;\n",
              "      width: 32px;\n",
              "    }\n",
              "\n",
              "    .colab-df-convert:hover {\n",
              "      background-color: #E2EBFA;\n",
              "      box-shadow: 0px 1px 2px rgba(60, 64, 67, 0.3), 0px 1px 3px 1px rgba(60, 64, 67, 0.15);\n",
              "      fill: #174EA6;\n",
              "    }\n",
              "\n",
              "    [theme=dark] .colab-df-convert {\n",
              "      background-color: #3B4455;\n",
              "      fill: #D2E3FC;\n",
              "    }\n",
              "\n",
              "    [theme=dark] .colab-df-convert:hover {\n",
              "      background-color: #434B5C;\n",
              "      box-shadow: 0px 1px 3px 1px rgba(0, 0, 0, 0.15);\n",
              "      filter: drop-shadow(0px 1px 2px rgba(0, 0, 0, 0.3));\n",
              "      fill: #FFFFFF;\n",
              "    }\n",
              "  </style>\n",
              "\n",
              "      <script>\n",
              "        const buttonEl =\n",
              "          document.querySelector('#df-1d081337-f064-419a-bc32-79666c9a6616 button.colab-df-convert');\n",
              "        buttonEl.style.display =\n",
              "          google.colab.kernel.accessAllowed ? 'block' : 'none';\n",
              "\n",
              "        async function convertToInteractive(key) {\n",
              "          const element = document.querySelector('#df-1d081337-f064-419a-bc32-79666c9a6616');\n",
              "          const dataTable =\n",
              "            await google.colab.kernel.invokeFunction('convertToInteractive',\n",
              "                                                     [key], {});\n",
              "          if (!dataTable) return;\n",
              "\n",
              "          const docLinkHtml = 'Like what you see? Visit the ' +\n",
              "            '<a target=\"_blank\" href=https://colab.research.google.com/notebooks/data_table.ipynb>data table notebook</a>'\n",
              "            + ' to learn more about interactive tables.';\n",
              "          element.innerHTML = '';\n",
              "          dataTable['output_type'] = 'display_data';\n",
              "          await google.colab.output.renderOutput(dataTable, element);\n",
              "          const docLink = document.createElement('div');\n",
              "          docLink.innerHTML = docLinkHtml;\n",
              "          element.appendChild(docLink);\n",
              "        }\n",
              "      </script>\n",
              "    </div>\n",
              "  </div>\n",
              "  "
            ]
          },
          "metadata": {},
          "execution_count": 1
        }
      ]
    },
    {
      "cell_type": "markdown",
      "metadata": {
        "id": "7SfueFgsNdNt"
      },
      "source": [
        "# Problem: \n",
        "Which dataset are you going to use? What questions are you going to ask about this dataset? Make sure that you can answer the question using ML models. What are your predictor variables and target variable?"
      ]
    },
    {
      "cell_type": "markdown",
      "source": [
        "I will be using the Happiness dataset to determine which countries have the highest happiness score given the numerous features we have available, from generosity levels to life expectancy predictions. With this information, we can evaluate a country's happiness ranking, along with predicting the general pleasure one might gain from living in a country. Target Variable = Score |\n",
        "Predictor Variables = GDP per capita, generosity, freedom to make life choices, and social support and family."
      ],
      "metadata": {
        "id": "7ZU4TX4BfYxv"
      }
    },
    {
      "cell_type": "markdown",
      "metadata": {
        "id": "yM_lNmrrNw6S"
      },
      "source": [
        "# Data Preparation\n",
        "Explain your data prep. What did you do to get your data in the shape for your experiments? (e.g. creation of dummy variables, filling in missing values, etc). "
      ]
    },
    {
      "cell_type": "markdown",
      "source": [
        "The original dataset has 2,580 rows, but after dropping rops that contained a value of \"Unrated\" in the Stars category, we reduced it down to 2,577 rows.  We then needed to convert NaN values in the \"Top Ten\" category to zero to do our analysis.  Additionally, I created a couple different subsets based on different predictors as well as a subset that contained all the values of the highest rating \"Top Ten\" values since 2012.  This subset called TopRamen contains 37 rows.  TopRamenHQ shows which countries the best ramen are from, along with the brand and a couple other features.  Lastly, we created dummy variables to give binary nunmbers to the brand and style of ramen so that we can convert them to a quantitative figure."
      ],
      "metadata": {
        "id": "UJ6E2mtQKVyu"
      }
    },
    {
      "cell_type": "code",
      "metadata": {
        "id": "S-L1vVEe90YD",
        "colab": {
          "base_uri": "https://localhost:8080/"
        },
        "outputId": "42429eb4-72ec-4991-cb65-9c14abb4df70"
      },
      "source": [
        "# data prep code \n",
        "happy.shape"
      ],
      "execution_count": 2,
      "outputs": [
        {
          "output_type": "execute_result",
          "data": {
            "text/plain": [
              "(782, 10)"
            ]
          },
          "metadata": {},
          "execution_count": 2
        }
      ]
    },
    {
      "cell_type": "code",
      "source": [
        "happy['GDP per capita'].isnull().values.any()\n",
        "happy['Social support and Family'].isnull().values.any()\n",
        "happy['Generosity'].isnull().values.any()\n",
        "happy['Freedom to make life choices'].isnull().values.any()\n",
        "\n",
        "\n",
        "print(\"after: \", happy.shape)"
      ],
      "metadata": {
        "colab": {
          "base_uri": "https://localhost:8080/"
        },
        "id": "U50233gFj_OC",
        "outputId": "1b57c5af-f0ac-4fec-c9c2-7ccd6ccc6119"
      },
      "execution_count": 3,
      "outputs": [
        {
          "output_type": "stream",
          "name": "stdout",
          "text": [
            "after:  (782, 10)\n"
          ]
        }
      ]
    },
    {
      "cell_type": "code",
      "source": [
        "happy2 = happy.dropna( subset = ['Country or region']).copy()\n",
        "print(\"after: \", happy2.shape)"
      ],
      "metadata": {
        "colab": {
          "base_uri": "https://localhost:8080/"
        },
        "id": "NcW5KLpmlw0i",
        "outputId": "db55b0d7-3b21-4020-ee1b-f43a41dc2ae9"
      },
      "execution_count": 4,
      "outputs": [
        {
          "output_type": "stream",
          "name": "stdout",
          "text": [
            "after:  (782, 10)\n"
          ]
        }
      ]
    },
    {
      "cell_type": "code",
      "source": [
        "happy2 = happy[happy2[\"Year\"].astype(str).str.contains('2018')]\n",
        "happy2.head()"
      ],
      "metadata": {
        "colab": {
          "base_uri": "https://localhost:8080/",
          "height": 206
        },
        "id": "rHxHc-WylhUX",
        "outputId": "9785cbd1-427b-4244-82c6-e289df580d77"
      },
      "execution_count": 5,
      "outputs": [
        {
          "output_type": "execute_result",
          "data": {
            "text/plain": [
              "   Overall rank  Year Country or region  Score  GDP per capita  \\\n",
              "0             1  2018           Finland  7.632           1.305   \n",
              "1             2  2018            Norway  7.594           1.456   \n",
              "2             3  2018           Denmark  7.555           1.351   \n",
              "3             4  2018           Iceland  7.495           1.343   \n",
              "4             5  2018       Switzerland  7.487           1.420   \n",
              "\n",
              "   Social support and Family  Healthy life expectancy  \\\n",
              "0                      1.592                    0.874   \n",
              "1                      1.582                    0.861   \n",
              "2                      1.590                    0.868   \n",
              "3                      1.644                    0.914   \n",
              "4                      1.549                    0.927   \n",
              "\n",
              "   Freedom to make life choices  Generosity  Perceptions of corruption  \n",
              "0                         0.681       0.202                      0.393  \n",
              "1                         0.686       0.286                      0.340  \n",
              "2                         0.683       0.284                      0.408  \n",
              "3                         0.677       0.353                      0.138  \n",
              "4                         0.660       0.256                      0.357  "
            ],
            "text/html": [
              "\n",
              "  <div id=\"df-cd2c0bd5-37b2-4b2d-b4cb-79b82a79163a\">\n",
              "    <div class=\"colab-df-container\">\n",
              "      <div>\n",
              "<style scoped>\n",
              "    .dataframe tbody tr th:only-of-type {\n",
              "        vertical-align: middle;\n",
              "    }\n",
              "\n",
              "    .dataframe tbody tr th {\n",
              "        vertical-align: top;\n",
              "    }\n",
              "\n",
              "    .dataframe thead th {\n",
              "        text-align: right;\n",
              "    }\n",
              "</style>\n",
              "<table border=\"1\" class=\"dataframe\">\n",
              "  <thead>\n",
              "    <tr style=\"text-align: right;\">\n",
              "      <th></th>\n",
              "      <th>Overall rank</th>\n",
              "      <th>Year</th>\n",
              "      <th>Country or region</th>\n",
              "      <th>Score</th>\n",
              "      <th>GDP per capita</th>\n",
              "      <th>Social support and Family</th>\n",
              "      <th>Healthy life expectancy</th>\n",
              "      <th>Freedom to make life choices</th>\n",
              "      <th>Generosity</th>\n",
              "      <th>Perceptions of corruption</th>\n",
              "    </tr>\n",
              "  </thead>\n",
              "  <tbody>\n",
              "    <tr>\n",
              "      <th>0</th>\n",
              "      <td>1</td>\n",
              "      <td>2018</td>\n",
              "      <td>Finland</td>\n",
              "      <td>7.632</td>\n",
              "      <td>1.305</td>\n",
              "      <td>1.592</td>\n",
              "      <td>0.874</td>\n",
              "      <td>0.681</td>\n",
              "      <td>0.202</td>\n",
              "      <td>0.393</td>\n",
              "    </tr>\n",
              "    <tr>\n",
              "      <th>1</th>\n",
              "      <td>2</td>\n",
              "      <td>2018</td>\n",
              "      <td>Norway</td>\n",
              "      <td>7.594</td>\n",
              "      <td>1.456</td>\n",
              "      <td>1.582</td>\n",
              "      <td>0.861</td>\n",
              "      <td>0.686</td>\n",
              "      <td>0.286</td>\n",
              "      <td>0.340</td>\n",
              "    </tr>\n",
              "    <tr>\n",
              "      <th>2</th>\n",
              "      <td>3</td>\n",
              "      <td>2018</td>\n",
              "      <td>Denmark</td>\n",
              "      <td>7.555</td>\n",
              "      <td>1.351</td>\n",
              "      <td>1.590</td>\n",
              "      <td>0.868</td>\n",
              "      <td>0.683</td>\n",
              "      <td>0.284</td>\n",
              "      <td>0.408</td>\n",
              "    </tr>\n",
              "    <tr>\n",
              "      <th>3</th>\n",
              "      <td>4</td>\n",
              "      <td>2018</td>\n",
              "      <td>Iceland</td>\n",
              "      <td>7.495</td>\n",
              "      <td>1.343</td>\n",
              "      <td>1.644</td>\n",
              "      <td>0.914</td>\n",
              "      <td>0.677</td>\n",
              "      <td>0.353</td>\n",
              "      <td>0.138</td>\n",
              "    </tr>\n",
              "    <tr>\n",
              "      <th>4</th>\n",
              "      <td>5</td>\n",
              "      <td>2018</td>\n",
              "      <td>Switzerland</td>\n",
              "      <td>7.487</td>\n",
              "      <td>1.420</td>\n",
              "      <td>1.549</td>\n",
              "      <td>0.927</td>\n",
              "      <td>0.660</td>\n",
              "      <td>0.256</td>\n",
              "      <td>0.357</td>\n",
              "    </tr>\n",
              "  </tbody>\n",
              "</table>\n",
              "</div>\n",
              "      <button class=\"colab-df-convert\" onclick=\"convertToInteractive('df-cd2c0bd5-37b2-4b2d-b4cb-79b82a79163a')\"\n",
              "              title=\"Convert this dataframe to an interactive table.\"\n",
              "              style=\"display:none;\">\n",
              "        \n",
              "  <svg xmlns=\"http://www.w3.org/2000/svg\" height=\"24px\"viewBox=\"0 0 24 24\"\n",
              "       width=\"24px\">\n",
              "    <path d=\"M0 0h24v24H0V0z\" fill=\"none\"/>\n",
              "    <path d=\"M18.56 5.44l.94 2.06.94-2.06 2.06-.94-2.06-.94-.94-2.06-.94 2.06-2.06.94zm-11 1L8.5 8.5l.94-2.06 2.06-.94-2.06-.94L8.5 2.5l-.94 2.06-2.06.94zm10 10l.94 2.06.94-2.06 2.06-.94-2.06-.94-.94-2.06-.94 2.06-2.06.94z\"/><path d=\"M17.41 7.96l-1.37-1.37c-.4-.4-.92-.59-1.43-.59-.52 0-1.04.2-1.43.59L10.3 9.45l-7.72 7.72c-.78.78-.78 2.05 0 2.83L4 21.41c.39.39.9.59 1.41.59.51 0 1.02-.2 1.41-.59l7.78-7.78 2.81-2.81c.8-.78.8-2.07 0-2.86zM5.41 20L4 18.59l7.72-7.72 1.47 1.35L5.41 20z\"/>\n",
              "  </svg>\n",
              "      </button>\n",
              "      \n",
              "  <style>\n",
              "    .colab-df-container {\n",
              "      display:flex;\n",
              "      flex-wrap:wrap;\n",
              "      gap: 12px;\n",
              "    }\n",
              "\n",
              "    .colab-df-convert {\n",
              "      background-color: #E8F0FE;\n",
              "      border: none;\n",
              "      border-radius: 50%;\n",
              "      cursor: pointer;\n",
              "      display: none;\n",
              "      fill: #1967D2;\n",
              "      height: 32px;\n",
              "      padding: 0 0 0 0;\n",
              "      width: 32px;\n",
              "    }\n",
              "\n",
              "    .colab-df-convert:hover {\n",
              "      background-color: #E2EBFA;\n",
              "      box-shadow: 0px 1px 2px rgba(60, 64, 67, 0.3), 0px 1px 3px 1px rgba(60, 64, 67, 0.15);\n",
              "      fill: #174EA6;\n",
              "    }\n",
              "\n",
              "    [theme=dark] .colab-df-convert {\n",
              "      background-color: #3B4455;\n",
              "      fill: #D2E3FC;\n",
              "    }\n",
              "\n",
              "    [theme=dark] .colab-df-convert:hover {\n",
              "      background-color: #434B5C;\n",
              "      box-shadow: 0px 1px 3px 1px rgba(0, 0, 0, 0.15);\n",
              "      filter: drop-shadow(0px 1px 2px rgba(0, 0, 0, 0.3));\n",
              "      fill: #FFFFFF;\n",
              "    }\n",
              "  </style>\n",
              "\n",
              "      <script>\n",
              "        const buttonEl =\n",
              "          document.querySelector('#df-cd2c0bd5-37b2-4b2d-b4cb-79b82a79163a button.colab-df-convert');\n",
              "        buttonEl.style.display =\n",
              "          google.colab.kernel.accessAllowed ? 'block' : 'none';\n",
              "\n",
              "        async function convertToInteractive(key) {\n",
              "          const element = document.querySelector('#df-cd2c0bd5-37b2-4b2d-b4cb-79b82a79163a');\n",
              "          const dataTable =\n",
              "            await google.colab.kernel.invokeFunction('convertToInteractive',\n",
              "                                                     [key], {});\n",
              "          if (!dataTable) return;\n",
              "\n",
              "          const docLinkHtml = 'Like what you see? Visit the ' +\n",
              "            '<a target=\"_blank\" href=https://colab.research.google.com/notebooks/data_table.ipynb>data table notebook</a>'\n",
              "            + ' to learn more about interactive tables.';\n",
              "          element.innerHTML = '';\n",
              "          dataTable['output_type'] = 'display_data';\n",
              "          await google.colab.output.renderOutput(dataTable, element);\n",
              "          const docLink = document.createElement('div');\n",
              "          docLink.innerHTML = docLinkHtml;\n",
              "          element.appendChild(docLink);\n",
              "        }\n",
              "      </script>\n",
              "    </div>\n",
              "  </div>\n",
              "  "
            ]
          },
          "metadata": {},
          "execution_count": 5
        }
      ]
    },
    {
      "cell_type": "markdown",
      "metadata": {
        "id": "y3ha10SpN27E"
      },
      "source": [
        "# Metrics\n",
        "Identify which metrics you will be using to test your model and say why they are appropriate."
      ]
    },
    {
      "cell_type": "markdown",
      "source": [
        "We will be doing a regression algorithm to determine how the machine can assess happiness levels agains the overall ranking in column 1.  We will use the r^2 value to assess the performance of the models.  This is appropriate as r^2 values can measure regression models instead of using accuracy."
      ],
      "metadata": {
        "id": "jOA1xEKhV8XZ"
      }
    },
    {
      "cell_type": "markdown",
      "metadata": {
        "id": "67v8fsFBN7TR"
      },
      "source": [
        "# Baseline Performance\n",
        "Identify a baseline for your metrics - what would you expect to happen with this particular data if you always guessed the average or if you guessed randomly? What did some of the unsuccessful machine learning algorithms yield?"
      ]
    },
    {
      "cell_type": "markdown",
      "source": [
        "The baseline for our metrics is around an accuracy score of .0174.  This is a dummy classifier algorithm that removes Country from the dataset, and then evaluates its accuracy on how well the model did to predict which country a new ramen review is from.  This is the \"unsmart\" model that would happen if you guessed randomly each time."
      ],
      "metadata": {
        "id": "aZEEr_B91O5P"
      }
    },
    {
      "cell_type": "code",
      "metadata": {
        "id": "mGE56w6bN5_N",
        "colab": {
          "base_uri": "https://localhost:8080/"
        },
        "outputId": "9fe61618-24e8-4a1c-d21c-d67099b412a3"
      },
      "source": [
        "# build and test a baseline model here\n",
        "from sklearn.dummy import DummyRegressor\n",
        "from sklearn.model_selection import train_test_split\n",
        "from sklearn import metrics\n",
        "\n",
        "predictors = ['GDP per capita', 'Social support and Family', 'Freedom to make life choices', 'Generosity']\n",
        "target = 'Score'\n",
        "\n",
        "train_data, test_data, train_sln, test_sln = train_test_split(happy[predictors], happy[target], test_size = 0.2, random_state = 41)\n",
        "train_data.head()\n",
        "\n",
        "baseline = DummyRegressor()\n",
        "baseline.fit(train_data, train_sln)\n",
        "baseline_pred = baseline.predict(test_data)\n",
        "\n",
        "print('r^2: ', metrics.r2_score(test_sln, baseline_pred))"
      ],
      "execution_count": 6,
      "outputs": [
        {
          "output_type": "stream",
          "name": "stdout",
          "text": [
            "r^2:  -0.0005261696220115741\n"
          ]
        }
      ]
    },
    {
      "cell_type": "markdown",
      "metadata": {
        "id": "bot75U5WOLLT"
      },
      "source": [
        "# Model planning and Execution\n",
        "Identify which learning algorithms you have tried and which important parameters you’ve tuned for each one.\n"
      ]
    },
    {
      "cell_type": "code",
      "metadata": {
        "id": "oTqOhnnGOQOZ",
        "colab": {
          "base_uri": "https://localhost:8080/"
        },
        "outputId": "f049cada-d580-45d1-e1fc-47eda5ef4c9e"
      },
      "source": [
        "# Execute your plan here (build and test your models to answer your question)\n",
        "\n",
        "# knn\n",
        "import numpy as np\n",
        "from sklearn import neighbors\n",
        "from sklearn.preprocessing import StandardScaler\n",
        "\n",
        "knn = neighbors.KNeighborsRegressor(n_neighbors=25)\n",
        "knn.fit(train_data,train_sln)\n",
        "happy_preds = knn.predict(test_data)\n",
        "print('r^2: ', metrics.r2_score(test_sln, happy_preds))"
      ],
      "execution_count": 7,
      "outputs": [
        {
          "output_type": "stream",
          "name": "stdout",
          "text": [
            "r^2:  0.7592632189911994\n"
          ]
        }
      ]
    },
    {
      "cell_type": "code",
      "source": [
        "#Weighted knn\n",
        "wknn = neighbors.KNeighborsRegressor(n_neighbors=25, weights = 'distance')\n",
        "wknn.fit(train_data,train_sln)\n",
        "whappy_preds = wknn.predict(test_data)\n",
        "print('r^2: ', metrics.r2_score(test_sln, whappy_preds))"
      ],
      "metadata": {
        "colab": {
          "base_uri": "https://localhost:8080/"
        },
        "id": "a75_mEmeDUu3",
        "outputId": "8c960859-00cd-4201-a05e-53a9138ba467"
      },
      "execution_count": 8,
      "outputs": [
        {
          "output_type": "stream",
          "name": "stdout",
          "text": [
            "r^2:  0.7718920142168043\n"
          ]
        }
      ]
    },
    {
      "cell_type": "code",
      "source": [
        "#Decision Tree\n",
        "from sklearn import tree\n",
        "from sklearn import metrics\n",
        "\n",
        "dt = tree.DecisionTreeRegressor(random_state = 40)\n",
        "dt.fit(train_data,train_sln)\n",
        "dt_happy_preds = dt.predict(test_data)\n",
        "print('r^2: ', metrics.r2_score(test_sln, dt_happy_preds))"
      ],
      "metadata": {
        "colab": {
          "base_uri": "https://localhost:8080/"
        },
        "id": "e2dhetmJDthT",
        "outputId": "92c9716b-ee34-4e8e-f5d3-5c7322fde4ef"
      },
      "execution_count": 9,
      "outputs": [
        {
          "output_type": "stream",
          "name": "stdout",
          "text": [
            "r^2:  0.6051901153153285\n"
          ]
        }
      ]
    },
    {
      "cell_type": "code",
      "source": [
        "#Random Forest\n",
        "from sklearn.ensemble import RandomForestRegressor\n",
        "rf = RandomForestRegressor(random_state = 40)\n",
        "rf.fit(train_data, train_sln)\n",
        "rf_preds = rf.predict(test_data)\n",
        "print('r^2: ', metrics.r2_score(test_sln, rf_preds))"
      ],
      "metadata": {
        "colab": {
          "base_uri": "https://localhost:8080/"
        },
        "id": "IqKRNam2EYgf",
        "outputId": "cb975a5d-6c30-4008-c867-febdf547da87"
      },
      "execution_count": 10,
      "outputs": [
        {
          "output_type": "stream",
          "name": "stdout",
          "text": [
            "r^2:  0.7929901560577577\n"
          ]
        }
      ]
    },
    {
      "cell_type": "markdown",
      "metadata": {
        "id": "kMaqpNm4O9Qy"
      },
      "source": [
        "# Results\n",
        "After you conduct your learning experiment, summarize the results you got. Include visualizations (i.e. graphs) where appropriate.  How did you find the best k, n, m or other variables that you needed to tune. "
      ]
    },
    {
      "cell_type": "markdown",
      "source": [
        "For the knn and weighted knn models, I played around with different k values to maximize the r^2 value.  I found that the range of 20-30 for k value were the strongest, with 25 being the peak of that metric.  The r^2 values for these models were .759 for the knn, and .771 for the weighted knn model."
      ],
      "metadata": {
        "id": "9HU-UXqAVK8m"
      }
    },
    {
      "cell_type": "markdown",
      "source": [
        "For the decision tree and random forest models, I used a random state @40 to evaluate the model and make it reproducible. The r^2 values for these models were .605 for the decision tree, and .793 for the random forest."
      ],
      "metadata": {
        "id": "y_SGyXH8V8WI"
      }
    },
    {
      "cell_type": "code",
      "metadata": {
        "id": "5X_7-hMLPB-Z"
      },
      "source": [
        "# Include code to show your results (graphs, etc)\n",
        "import matplotlib.pyplot as plt\n",
        "import pandas as pd\n",
        "from sklearn import datasets, neighbors\n",
        "from mlxtend.plotting import plot_decision_regions"
      ],
      "execution_count": 11,
      "outputs": []
    },
    {
      "cell_type": "code",
      "source": [
        "  #knn\n",
        "  def r2(k):\n",
        "    knn = neighbors.KNeighborsRegressor(n_neighbors = k)\n",
        "    knn.fit(train_data, train_sln)\n",
        "    preds = knn.predict(test_data)\n",
        "    knn_r2 = metrics.r2_score(test_sln, preds)\n",
        "    return knn_r2\n",
        "\n",
        "# populate the series list\n",
        "  points = 30\n",
        "  series = []\n",
        "  for i in range (1, points):\n",
        "    val = r2(i)\n",
        "    series.append(val)\n",
        "\n",
        "  xvals = range(1, points)\n",
        "  plt.suptitle('R^2 by K Values')\n",
        "  plt.plot(xvals, series, 'ro-')\n",
        "  plt.axis([1, 30, 0.4, 1])\n",
        "  plt.xlabel('K')\n",
        "  plt.ylabel('R^2')\n",
        "  plt.show()\n",
        "\n",
        "knn = neighbors.KNeighborsRegressor(n_neighbors=25)\n",
        "knn.fit(train_data,train_sln)\n",
        "happy_preds = knn.predict(test_data)\n",
        "print('r^2: ', metrics.r2_score(test_sln, happy_preds))"
      ],
      "metadata": {
        "colab": {
          "base_uri": "https://localhost:8080/",
          "height": 325
        },
        "id": "QkvzYNkHq7Jq",
        "outputId": "48498ad9-3351-4815-ff98-da7cb35b5dfe"
      },
      "execution_count": 13,
      "outputs": [
        {
          "output_type": "display_data",
          "data": {
            "text/plain": [
              "<Figure size 432x288 with 1 Axes>"
            ],
            "image/png": "[encoded data removed]"
          },
          "metadata": {
            "needs_background": "light"
          }
        },
        {
          "output_type": "stream",
          "name": "stdout",
          "text": [
            "r^2:  0.7592632189911994\n"
          ]
        }
      ]
    },
    {
      "cell_type": "code",
      "source": [
        " #w_knn\n",
        " def w_r2(k):\n",
        "   wknn = neighbors.KNeighborsRegressor(n_neighbors = k, weights = 'distance')\n",
        "   wknn.fit(train_data, train_sln)\n",
        "   preds = wknn.predict(test_data)\n",
        "   wknn_r2 = metrics.r2_score(test_sln, preds)\n",
        "   return wknn_r2\n",
        "\n",
        "# populate the series list\n",
        " points = 30\n",
        " series = []\n",
        " for i in range (1, points):\n",
        "    val = w_r2(i)\n",
        "    series.append(val)\n",
        "\n",
        " xvals = range(1, points)\n",
        " plt.suptitle('Weighted R^2 by K Values')\n",
        " plt.plot(xvals, series, 'ro-')\n",
        " plt.axis([1, 30, 0.4, 1])\n",
        " plt.xlabel('K')\n",
        " plt.ylabel('R^2')\n",
        " plt.show()\n",
        "\n",
        "wknn = neighbors.KNeighborsRegressor(n_neighbors=25, weights = 'distance')\n",
        "wknn.fit(train_data,train_sln)\n",
        "whappy_preds = wknn.predict(test_data)\n",
        "print('r^2: ', metrics.r2_score(test_sln, whappy_preds))"
      ],
      "metadata": {
        "colab": {
          "base_uri": "https://localhost:8080/",
          "height": 325
        },
        "id": "8k67U4XSbNEE",
        "outputId": "ecb8bf93-69d6-4b78-b991-447348db149f"
      },
      "execution_count": 18,
      "outputs": [
        {
          "output_type": "display_data",
          "data": {
            "text/plain": [
              "<Figure size 432x288 with 1 Axes>"
            ],
            "image/png": "[encoded data removed]"
          },
          "metadata": {
            "needs_background": "light"
          }
        },
        {
          "output_type": "stream",
          "name": "stdout",
          "text": [
            "r^2:  0.7718920142168043\n"
          ]
        }
      ]
    },
    {
      "cell_type": "code",
      "source": [
        "#Decision Tree\n",
        "from sklearn.tree import DecisionTreeRegressor\n",
        "\n",
        "def dt_r2(train, test, train_sln, test_sln, max_dep):\n",
        "  tree = DecisionTreeRegressor(random_state = 41, max_depth=max_dep)\n",
        "  tree.fit(train, train_sln)\n",
        "  pred = tree.predict(test)\n",
        "  r2 = metrics.r2_score(test_sln, pred)\n",
        "  return r2"
      ],
      "metadata": {
        "id": "RIxhXNcKVNof"
      },
      "execution_count": 22,
      "outputs": []
    },
    {
      "cell_type": "code",
      "source": [
        "dt_results = DecisionTreeRegressor(random_state = 41, max_depth = 5)\n",
        "dt_results.fit(train_data, train_sln)\n",
        "dt_results_predict = dt_results.predict(test_data)\n",
        "\n",
        "print('r^2: ', metrics.r2_score(test_sln, dt_results_predict))"
      ],
      "metadata": {
        "colab": {
          "base_uri": "https://localhost:8080/"
        },
        "id": "YTC-QqNHegwU",
        "outputId": "de640e4b-475a-4c72-9159-a595a0543655"
      },
      "execution_count": 31,
      "outputs": [
        {
          "output_type": "stream",
          "name": "stdout",
          "text": [
            "r^2:  0.7443015382297515\n"
          ]
        }
      ]
    },
    {
      "cell_type": "code",
      "source": [
        "#Random Forest\n",
        "def rf_r2(train, test, train_sln, test_sln, n_est, max_dep):\n",
        "  forest = RandomForestRegressor(random_state = 41, \n",
        "                                 n_estimators=n_est, max_depth=max_dep)\n",
        "  forest.fit(train, train_sln)\n",
        "  pred = forest.predict(test)\n",
        "  r2 = metrics.r2_score(test_sln, pred)\n",
        "  return r2"
      ],
      "metadata": {
        "id": "fUaQGReVVnlx"
      },
      "execution_count": 36,
      "outputs": []
    },
    {
      "cell_type": "code",
      "source": [
        "forest_results = RandomForestRegressor(random_state = 41, max_depth = 8, n_estimators = 120)\n",
        "forest_results.fit(train_data, train_sln)\n",
        "forest_results_predict = forest_results.predict(test_data)\n",
        "\n",
        "print('r^2: ', metrics.r2_score(test_sln, forest_results_predict))"
      ],
      "metadata": {
        "colab": {
          "base_uri": "https://localhost:8080/"
        },
        "id": "qK7t9y88VwJQ",
        "outputId": "8b85b93d-30ae-45b9-8c48-03fe5533c820"
      },
      "execution_count": 46,
      "outputs": [
        {
          "output_type": "stream",
          "name": "stdout",
          "text": [
            "r^2:  0.7924431192813701\n"
          ]
        }
      ]
    },
    {
      "cell_type": "code",
      "source": [
        "from sklearn.preprocessing import StandardScaler\n",
        "\n",
        "scaler = StandardScaler()\n",
        "scaler.fit(train_data)\n",
        "train_data_normalized = scaler.transform(train_data)\n",
        "test_data_normalized = scaler.transform(test_data)"
      ],
      "metadata": {
        "id": "WExAGaCJXGF0"
      },
      "execution_count": 47,
      "outputs": []
    },
    {
      "cell_type": "code",
      "source": [
        "#Normalized knn\n",
        "knneighbors = neighbors.KNeighborsRegressor(n_neighbors=5, weights = 'distance')\n",
        "knneighbors.fit(train_data_normalized, train_sln)\n",
        "knnpredictions = knneighbors.predict(test_data_normalized)\n",
        "\n",
        "print('r^2: ', metrics.r2_score(test_sln, knnpredictions))"
      ],
      "metadata": {
        "id": "SX80fTFxWufX",
        "outputId": "1530a480-d1ac-4637-b064-91a29354b953",
        "colab": {
          "base_uri": "https://localhost:8080/"
        }
      },
      "execution_count": 52,
      "outputs": [
        {
          "output_type": "stream",
          "name": "stdout",
          "text": [
            "r^2:  0.7893448528554704\n"
          ]
        }
      ]
    },
    {
      "cell_type": "code",
      "source": [
        "#Normalized weighted-kNN\n",
        "wknneighbors = neighbors.KNeighborsRegressor(n_neighbors=10, weights = 'distance')\n",
        "wknneighbors.fit(train_data_normalized, train_sln)\n",
        "wknnpredictions = wknneighbors.predict(test_data_normalized)\n",
        "\n",
        "print('r^2: ', metrics.r2_score(test_sln, wknnpredictions))"
      ],
      "metadata": {
        "colab": {
          "base_uri": "https://localhost:8080/"
        },
        "id": "xOq43XvNWXaO",
        "outputId": "f4720728-9200-4bce-e95e-8679185186a9"
      },
      "execution_count": 53,
      "outputs": [
        {
          "output_type": "stream",
          "name": "stdout",
          "text": [
            "r^2:  0.7847720642392453\n"
          ]
        }
      ]
    },
    {
      "cell_type": "code",
      "source": [
        "#Normalized decision tree\n",
        "normaldt = DecisionTreeRegressor(random_state = 41, max_depth = 5)\n",
        "normaldt.fit(train_data, train_sln)\n",
        "dtpredictions = normaldt.predict(test_data)\n",
        "\n",
        "print('r^2: ', metrics.r2_score(test_sln, dtpredictions))"
      ],
      "metadata": {
        "colab": {
          "base_uri": "https://localhost:8080/"
        },
        "id": "MwYyXIyPWYau",
        "outputId": "928c25c7-818f-4c83-c986-256ac9ff0a47"
      },
      "execution_count": 61,
      "outputs": [
        {
          "output_type": "stream",
          "name": "stdout",
          "text": [
            "r^2:  0.7443015382297515\n"
          ]
        }
      ]
    },
    {
      "cell_type": "code",
      "source": [
        "#Normalized Random forest\n",
        "normalrf = RandomForestRegressor(random_state = 41, max_depth = 8, n_estimators = 120)\n",
        "normalrf.fit(train_data, train_sln)\n",
        "normalrfpredictions = normalrf.predict(test_data)\n",
        "\n",
        "print('r^2: ', metrics.r2_score(test_sln, normalrfpredictions))"
      ],
      "metadata": {
        "colab": {
          "base_uri": "https://localhost:8080/"
        },
        "id": "03waF301WbMx",
        "outputId": "0864c302-16fe-4a82-af73-df9b6bb8ec8e"
      },
      "execution_count": 59,
      "outputs": [
        {
          "output_type": "stream",
          "name": "stdout",
          "text": [
            "r^2:  0.7924431192813701\n"
          ]
        }
      ]
    },
    {
      "cell_type": "markdown",
      "metadata": {
        "id": "wAOCA1Q0OWS4"
      },
      "source": [
        "# Bumps in the Road:\n",
        "What challenges did you encounter? How did you overcome these challenges? Did you have to adapt your strategy to account for these challenges? Why or why not?\n"
      ]
    },
    {
      "cell_type": "markdown",
      "source": [
        "I had many different challenges when working with the ramen dataset.  Particularly, my analysis wasn't conducive to actually finding the country or origin of ramen based on its features.  Due to this and other coding issues, I chose to go with the happiness dataset as I was far more comfortable doing r^2 regression analysis than a classification problem which might not have had a high accuracy score in the first place.  I had trouble graphing the decision trees and random forests, which took up lots of time researching and going through old class lectures to find a similar example.  Other graphs for knn and w-knn I could do, but I ended up with numerous errors when graphing these, so I ommitted the work.  Another challenge from this dataset was normalizing the results, as it has been awhile since I have done this in the class.  Once I found the write setup on how to write the code, make the predictions, and test the predictions against the testing solutions, I was able to copy this down for the other algorithms.  Apart from these main challenges, I was able to get positive r^2 results which I am happy about, and will conduct further analysis below."
      ],
      "metadata": {
        "id": "dfLiAVyHWQ_d"
      }
    },
    {
      "cell_type": "markdown",
      "metadata": {
        "id": "qBSirz71PG62"
      },
      "source": [
        "# Conclusions\n",
        "What insights/recommendations do you have? What did you find that was interesting? Which model was your best model, which models didn't work well? Why do you think this is? In general, I want a discussion of your experiment, the results, and what they mean."
      ]
    },
    {
      "cell_type": "markdown",
      "source": [
        "Algorithms:\n",
        "KNN: .759\n",
        "wKNN: .772\n",
        "Decision Tree: .744\n",
        "Random Forest: .792\n",
        "\n",
        "Normalized Algorithms:\n",
        "KNN: .789\n",
        "wKNN: .785\n",
        "Decision Tree: .744\n",
        "Random Forest: .792\n",
        "\n",
        "The model that performed the best was the random forest at .79 of an r^2 value, with knn and wknn models following close behind at .78.  I found it interesting that the normalization process did not change the r^2 value for the decision trees and random forest, unlike the knn and wknn where they boht improve massive from the normalization.  This could be because these tree-based models might not require scaling to the extent that nearest neighbors had, as their weighting of different attributes is analyzed far differently than  nearest neighbors.  From the graphs, we can see that no matter how many k values are inputted, the r^2 value stayed around .76 and .77 for the knn and wknn models respectively.  Based on class discussions revolving around the pros and cons of different models, its not surprise that the random forest algorithm had the highest r^2 value.  Due to its versatility in learning from the model's past outputs for future inputs is a crucial aspect to dtermining which factors are seen as more prevelant and influential whend determining the happiness ranking.  Based on these factors, I would reccomend using the random forest algorithm to determine a country's happiness score based on their GDP per capita, social support and family, freedom to make life choices, and generosity levels."
      ],
      "metadata": {
        "id": "ejQ2OllDS1ja"
      }
    }
  ]
}